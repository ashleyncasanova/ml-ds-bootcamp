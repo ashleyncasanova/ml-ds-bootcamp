{
 "cells": [
  {
   "cell_type": "markdown",
   "metadata": {},
   "source": [
    "## 1.1 Section Overview"
   ]
  },
  {
   "cell_type": "markdown",
   "metadata": {},
   "source": [
    "NumPy\n",
    "\n",
    "- Numerical Python\n",
    "\n",
    "- Backbone of scientific and numerical computing in Python (scikit-learn, matplotlib, and pandas).\n",
    "\n",
    "- Converts data into a form that can be used by the machine learning."
   ]
  },
  {
   "cell_type": "markdown",
   "metadata": {},
   "source": [
    "Why do we use Numpy?\n",
    "\n",
    "1. It's fast\n",
    "    * Numpy operations on arrays and lists are a lot faster than they are in Python.\n",
    "        * Machine learning requires a lot of computation, and processing.\n",
    "        * Graphical processing units (GPUs) are faster than CPUs.  \n",
    "    * Behind the scenes optimizations are written in c code.  \n",
    "        * Numpy is a library that is written in C.\n",
    "        * C code is faster than Python.\n",
    "    \n",
    "2. Machines only understand 1s and 0s.  \n",
    "    * Numpy is a library that makes it easy to work with 1s and 0s.  \n",
    "    * Numpy forms the foundation to convert data into a form that can be used by the machine learning algorithm.  \n",
    "\n",
    "4. Vectorization via broadcastind (avoiding loops)  \n",
    "    * Avoiding loops and vectorization is a good thing.\n",
    "    * Can avoid slowdowns in the case of large arrays.\n",
    "\n",
    "5. Backbone of other Python scientific packages\n",
    "    * Numpy is the backbone of other Python scientific packages.\n",
    "    * Numpy is used by scikit-learn, matplotlib, and pandas."
   ]
  },
  {
   "cell_type": "markdown",
   "metadata": {},
   "source": [
    "What are we going to cover in this section?\n",
    "* Most useful functions\n",
    "* NumPy data types & attributes (ndarray)\n",
    "* Creating arrays\n",
    "* Viewing arrays & matricies\n",
    "* Manipulating & comparing arrays\n",
    "* Sorting arrays\n",
    "* Use case"
   ]
  }
 ],
 "metadata": {
  "language_info": {
   "name": "python"
  },
  "orig_nbformat": 4
 },
 "nbformat": 4,
 "nbformat_minor": 2
}
