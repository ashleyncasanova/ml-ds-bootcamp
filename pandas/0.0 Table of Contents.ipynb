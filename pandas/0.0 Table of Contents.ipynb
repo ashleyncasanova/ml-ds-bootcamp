{
 "cells": [
  {
   "cell_type": "markdown",
   "id": "c5de6957",
   "metadata": {},
   "source": [
    "## **Table of Contents**"
   ]
  },
  {
   "cell_type": "markdown",
   "id": "888192d3",
   "metadata": {},
   "source": [
    "### [1.1 Section Overview](1.1%20Pandas.ipynb)"
   ]
  },
  {
   "cell_type": "markdown",
   "id": "1fffcf10",
   "metadata": {},
   "source": [
    "### [1.2 Series, Data Frames and CSVs](1.2%20Series,%20Data%20Frames%20and%20CSVs.ipynb)"
   ]
  },
  {
   "cell_type": "markdown",
   "id": "1d2785f4",
   "metadata": {},
   "source": [
    "### [1.3 Describing Data with Pandas](1.3%20Describing%20Data%20with%20Pandas.ipynb)"
   ]
  },
  {
   "cell_type": "markdown",
   "id": "612e3745",
   "metadata": {},
   "source": [
    "### [1.4 Selecting and Viewing Data with Pandas](1.4%20Selecting%20and%20Viewing%20Data%20with%20Pandas.ipynb)"
   ]
  },
  {
   "cell_type": "markdown",
   "id": "c83db19c",
   "metadata": {},
   "source": [
    "### [1.5 Manipulating Data](1.5%20Manipulating%20Data.ipynb)"
   ]
  },
  {
   "cell_type": "markdown",
   "id": "06c1e0b6",
   "metadata": {},
   "source": [
    "### [1.6 Pandas Exercises](1.6%20Pandas%20Exercises.ipynb)"
   ]
  }
 ],
 "metadata": {
  "kernelspec": {
   "display_name": "Python 3",
   "language": "python",
   "name": "python3"
  },
  "language_info": {
   "codemirror_mode": {
    "name": "ipython",
    "version": 3
   },
   "file_extension": ".py",
   "mimetype": "text/x-python",
   "name": "python",
   "nbconvert_exporter": "python",
   "pygments_lexer": "ipython3",
   "version": "3.8.8"
  }
 },
 "nbformat": 4,
 "nbformat_minor": 5
}
