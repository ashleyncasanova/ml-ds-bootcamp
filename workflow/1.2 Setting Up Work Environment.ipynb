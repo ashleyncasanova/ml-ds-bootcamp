{
 "cells": [
  {
   "cell_type": "markdown",
   "id": "a6b8dc11",
   "metadata": {},
   "source": [
    "## 1.2 Setting Up Work Environment"
   ]
  },
  {
   "cell_type": "markdown",
   "id": "1cb0f24a",
   "metadata": {},
   "source": [
    "**Once anaconda or miniconda is installed, we can test the installation via the terminal:**"
   ]
  },
  {
   "cell_type": "code",
   "execution_count": 1,
   "id": "ebbe6ecc",
   "metadata": {},
   "outputs": [
    {
     "name": "stdout",
     "output_type": "stream",
     "text": [
      "/Users/ashleycasanova/opt/anaconda3/bin/conda\r\n"
     ]
    }
   ],
   "source": [
    "!which conda"
   ]
  },
  {
   "cell_type": "markdown",
   "id": "d4111353",
   "metadata": {},
   "source": [
    "**Next, we can create a project folder and change into it:**"
   ]
  },
  {
   "cell_type": "code",
   "execution_count": 2,
   "id": "75d07478",
   "metadata": {},
   "outputs": [],
   "source": [
    "# # First, we want to move into the directory we want to create our project folder in.\n",
    "# !cd projects/ml-ds-bootcamp/workflow"
   ]
  },
  {
   "cell_type": "code",
   "execution_count": 3,
   "id": "9e2ac61d",
   "metadata": {},
   "outputs": [],
   "source": [
    "# # Then, we want to create our project folder.\n",
    "# !mkdir sample_project"
   ]
  },
  {
   "cell_type": "code",
   "execution_count": 4,
   "id": "a50f29c1",
   "metadata": {},
   "outputs": [],
   "source": [
    "# # Finally, we can move into our project folder.\n",
    "# !cd sample_project"
   ]
  },
  {
   "cell_type": "markdown",
   "id": "4503fad6",
   "metadata": {},
   "source": [
    "**To create our virtual environment:**"
   ]
  },
  {
   "cell_type": "code",
   "execution_count": 5,
   "id": "8b18d24f",
   "metadata": {},
   "outputs": [],
   "source": [
    "# !conda create --prefix ./env pandas numpy matplotlib scikit-learn"
   ]
  },
  {
   "cell_type": "markdown",
   "id": "84752746",
   "metadata": {},
   "source": [
    "**If there are any packages we forgot to add we can install them at any time using the command:**"
   ]
  },
  {
   "cell_type": "code",
   "execution_count": 6,
   "id": "0a289232",
   "metadata": {},
   "outputs": [],
   "source": [
    "# !conda install jupyter"
   ]
  },
  {
   "cell_type": "markdown",
   "id": "591d8cd2",
   "metadata": {},
   "source": [
    "**We now have an env folder in our project_1 folder**"
   ]
  },
  {
   "cell_type": "code",
   "execution_count": 7,
   "id": "1d3ac993",
   "metadata": {},
   "outputs": [],
   "source": [
    "#!ls"
   ]
  },
  {
   "cell_type": "markdown",
   "id": "58a3a412",
   "metadata": {},
   "source": [
    "**Activate new environment:**"
   ]
  },
  {
   "cell_type": "code",
   "execution_count": 8,
   "id": "0f4387b2",
   "metadata": {},
   "outputs": [],
   "source": [
    "# !conda activate /Users/ashleycasanova/projects/ml-ds-bootcamp/project_1/env"
   ]
  },
  {
   "cell_type": "markdown",
   "id": "e7747367",
   "metadata": {},
   "source": [
    "**We can list the environments we have:**"
   ]
  },
  {
   "cell_type": "code",
   "execution_count": 9,
   "id": "89d410a7",
   "metadata": {},
   "outputs": [],
   "source": [
    "# #The star indicates which environment is active.\n",
    "# !conda env list"
   ]
  },
  {
   "cell_type": "markdown",
   "id": "74e8b42a",
   "metadata": {},
   "source": [
    "**To open jupyter notebooks:**"
   ]
  },
  {
   "cell_type": "code",
   "execution_count": 10,
   "id": "2f808e06",
   "metadata": {},
   "outputs": [],
   "source": [
    "# jupyter notebook"
   ]
  },
  {
   "cell_type": "markdown",
   "id": "adef8e65",
   "metadata": {},
   "source": [
    "**Once we open up our new notebook, we can check to see if our packages are available by importing them:**"
   ]
  },
  {
   "cell_type": "code",
   "execution_count": 11,
   "id": "2dd9221c",
   "metadata": {},
   "outputs": [],
   "source": [
    "#import pandas as pd\n",
    "#import numpy as np\n",
    "#import matplotlib.pyplot as plt\n",
    "#import sklearn"
   ]
  },
  {
   "cell_type": "markdown",
   "id": "481dd164",
   "metadata": {},
   "source": [
    "**To deactivate our environment:**"
   ]
  },
  {
   "cell_type": "code",
   "execution_count": 12,
   "id": "48872245",
   "metadata": {},
   "outputs": [],
   "source": [
    "# !conda deactivate"
   ]
  }
 ],
 "metadata": {
  "kernelspec": {
   "display_name": "Python 3",
   "language": "python",
   "name": "python3"
  },
  "language_info": {
   "codemirror_mode": {
    "name": "ipython",
    "version": 3
   },
   "file_extension": ".py",
   "mimetype": "text/x-python",
   "name": "python",
   "nbconvert_exporter": "python",
   "pygments_lexer": "ipython3",
   "version": "3.8.8"
  }
 },
 "nbformat": 4,
 "nbformat_minor": 5
}
