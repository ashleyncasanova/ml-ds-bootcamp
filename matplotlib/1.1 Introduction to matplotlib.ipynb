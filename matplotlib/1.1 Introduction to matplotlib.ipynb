{
 "cells": [
  {
   "cell_type": "markdown",
   "metadata": {},
   "source": [
    "## 1.1 Introduction to Matplotlib"
   ]
  },
  {
   "cell_type": "markdown",
   "metadata": {},
   "source": [
    "Matplotlib is a python plotting library that allows us to turn data into plots/figures."
   ]
  },
  {
   "cell_type": "markdown",
   "metadata": {},
   "source": [
    "Why Matplotllib?\n",
    "* Built on NumPy arrays (and Python)\n",
    "* Integrates directly with Pandas\n",
    "* Can create basic or advanced plots\n",
    "* Simple to use interface"
   ]
  },
  {
   "cell_type": "markdown",
   "metadata": {},
   "source": [
    "What are we going to cover?\n",
    "* Matplotlib workflow\n",
    "* Importing Matplotlib and the two ways of plotting\n",
    "* Plotting data from pandas DataFrames\n",
    "* Customizing plots\n",
    "* Saving and sharing plots"
   ]
  },
  {
   "cell_type": "markdown",
   "metadata": {},
   "source": [
    "Matplotlib Workflow Diagram\n",
    "\n",
    "<img src=\"matplotlib-workflow.png\" alt=\"matplotlib workflow diagram\" height=\"200\">"
   ]
  }
 ],
 "metadata": {
  "language_info": {
   "name": "python"
  },
  "orig_nbformat": 4
 },
 "nbformat": 4,
 "nbformat_minor": 2
}
