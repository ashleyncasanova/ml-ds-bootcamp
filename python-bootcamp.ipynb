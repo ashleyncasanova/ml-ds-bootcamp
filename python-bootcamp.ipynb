{
 "cells": [
  {
   "cell_type": "markdown",
   "id": "69b3e39f",
   "metadata": {},
   "source": [
    "## Python Bootcamp\n",
    "___"
   ]
  },
  {
   "cell_type": "markdown",
   "id": "d7bcea4c",
   "metadata": {},
   "source": [
    "## Content\n",
    "1. [Data Types](#data-types)\n",
    "1. [Operator Precedence](#operator-precedence)"
   ]
  },
  {
   "cell_type": "markdown",
   "id": "923b073b",
   "metadata": {},
   "source": [
    "<a id=\"data-types\"></a>\n",
    "___"
   ]
  },
  {
   "cell_type": "markdown",
   "id": "a74d7448",
   "metadata": {},
   "source": [
    "### Data Types"
   ]
  },
  {
   "cell_type": "code",
   "execution_count": 1,
   "id": "80a12c22",
   "metadata": {},
   "outputs": [],
   "source": [
    "#Fundamental Data Types\n",
    "int\n",
    "float\n",
    "bool\n",
    "str\n",
    "list\n",
    "tuple\n",
    "set\n",
    "dict\n",
    "\n",
    "#Classes - custom types\n",
    "\n",
    "#Specialized Data Types - not built into python; extentions / modules we can add\n",
    "\n",
    "#None - nothing\n",
    "None"
   ]
  },
  {
   "cell_type": "markdown",
   "metadata": {},
   "source": [
    "#### Fundamental Data Types: Numbers"
   ]
  },
  {
   "cell_type": "code",
   "execution_count": 6,
   "metadata": {},
   "outputs": [
    {
     "name": "stdout",
     "output_type": "stream",
     "text": [
      "6\n",
      "-2\n",
      "8\n",
      "0.5\n",
      "16\n",
      "0\n",
      "2\n"
     ]
    }
   ],
   "source": [
    "#Integer - whole numbers \n",
    "int\n",
    "\n",
    "#Integers can be used to perform mathematical operations\n",
    "print(2 + 4)\n",
    "print(2 - 4)\n",
    "print(2 * 4)\n",
    "print(2 / 4)\n",
    "print(2 ** 4)\n",
    "print(2 // 4)\n",
    "print(2 % 4)\n",
    "\n",
    "#Double astrisk (**) is the power operator\n",
    "#The double forward slash (//) returns only the integer value\n",
    "#The modulus operator (%) returns the remainder"
   ]
  },
  {
   "cell_type": "code",
   "execution_count": 7,
   "metadata": {},
   "outputs": [
    {
     "name": "stdout",
     "output_type": "stream",
     "text": [
      "<class 'int'>\n",
      "<class 'int'>\n",
      "<class 'int'>\n",
      "<class 'float'>\n",
      "<class 'int'>\n",
      "<class 'int'>\n",
      "<class 'int'>\n"
     ]
    }
   ],
   "source": [
    "#The type function can tell us the data type we are using\n",
    "print(type(2 + 4))\n",
    "print(type(2 - 4))\n",
    "print(type(2 * 4))\n",
    "print(type(2 / 4))\n",
    "print(type(2 ** 4))\n",
    "print(type(2 // 4))\n",
    "print(type(2 % 4))"
   ]
  },
  {
   "cell_type": "code",
   "execution_count": 8,
   "id": "d57c8066",
   "metadata": {},
   "outputs": [
    {
     "data": {
      "text/plain": [
       "float"
      ]
     },
     "execution_count": 8,
     "metadata": {},
     "output_type": "execute_result"
    }
   ],
   "source": [
    "#Floating Point Number - decimal number; takes up more memeory\n",
    "float"
   ]
  },
  {
   "cell_type": "code",
   "execution_count": 13,
   "metadata": {},
   "outputs": [
    {
     "name": "stdout",
     "output_type": "stream",
     "text": [
      "0b101\n",
      "5\n"
     ]
    }
   ],
   "source": [
    "#Integers and floats get stored in memory as binary numbers\n",
    "#The bin function returns the binary representation of an integer\n",
    "print(bin(5))\n",
    "\n",
    "#We can use the int function to return the integer from binary \n",
    "print(int(\"0b101\",2))"
   ]
  },
  {
   "cell_type": "code",
   "execution_count": 14,
   "metadata": {},
   "outputs": [
    {
     "name": "stdout",
     "output_type": "stream",
     "text": [
      "20\n",
      "2\n"
     ]
    }
   ],
   "source": [
    "#Other useful functions include\n",
    "print(abs(-20))\n",
    "print(round(2.4))"
   ]
  },
  {
   "cell_type": "code",
   "execution_count": null,
   "metadata": {},
   "outputs": [],
   "source": [
    "#Complex - number type for complex math, real number\n",
    "complex"
   ]
  },
  {
   "cell_type": "markdown",
   "metadata": {},
   "source": [
    "<a id=\"operator-precedence\"></a>\n",
    "___"
   ]
  },
  {
   "cell_type": "markdown",
   "metadata": {},
   "source": [
    "### Operator Precedence"
   ]
  },
  {
   "cell_type": "code",
   "execution_count": 3,
   "metadata": {},
   "outputs": [
    {
     "name": "stdout",
     "output_type": "stream",
     "text": [
      "8\n",
      "21\n"
     ]
    }
   ],
   "source": [
    "#Order of Operations - BODMAS\n",
    "# ()\n",
    "# **\n",
    "# / *\n",
    "# + -\n",
    "\n",
    "print(20 - 3 * 4)\n",
    "\n",
    "print((20 - 3) + 2 ** 2)"
   ]
  },
  {
   "cell_type": "code",
   "execution_count": null,
   "metadata": {},
   "outputs": [],
   "source": []
  }
 ],
 "metadata": {
  "interpreter": {
   "hash": "aee8b7b246df8f9039afb4144a1f6fd8d2ca17a180786b69acc140d282b71a49"
  },
  "kernelspec": {
   "display_name": "Python 3.9.7 64-bit",
   "name": "python3"
  },
  "language_info": {
   "codemirror_mode": {
    "name": "ipython",
    "version": 3
   },
   "file_extension": ".py",
   "mimetype": "text/x-python",
   "name": "python",
   "nbconvert_exporter": "python",
   "pygments_lexer": "ipython3",
   "version": "3.9.7"
  }
 },
 "nbformat": 4,
 "nbformat_minor": 5
}
