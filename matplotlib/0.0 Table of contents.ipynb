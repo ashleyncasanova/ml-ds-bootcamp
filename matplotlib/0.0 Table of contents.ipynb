{
 "cells": [
  {
   "cell_type": "markdown",
   "metadata": {},
   "source": [
    "## Table of Contents\n",
    "___"
   ]
  },
  {
   "cell_type": "markdown",
   "metadata": {},
   "source": [
    "### [1.1 Introduction to Matplotlib](1.1%20Introduction%20to%20Matplotlib.ipynb)"
   ]
  },
  {
   "cell_type": "markdown",
   "metadata": {},
   "source": [
    "### [1.2 Importing and Using Matplotlib](1.2%20Importing%20and%20Using%20Matplotlib)"
   ]
  },
  {
   "cell_type": "markdown",
   "metadata": {},
   "source": [
    "### [1.3 Anatomy of a figure](1.3%20Anatomy%20of%20a%20figure.ipynb)"
   ]
  },
  {
   "cell_type": "markdown",
   "metadata": {},
   "source": [
    "### [1.4 Matplotlib Workflow](1.4%20Matplotlib%20Workflow.ipynb)"
   ]
  },
  {
   "cell_type": "markdown",
   "metadata": {},
   "source": [
    "### [1.5 Scatter and Bar Plots](1.5%20Scatter%20and%20Bar%20Plots.ipynb)"
   ]
  },
  {
   "cell_type": "markdown",
   "metadata": {},
   "source": [
    "### [1.6 Plotting Data with Pandas](1.6%20Plotting%20Data%20with%20Pandas.ipynb)"
   ]
  },
  {
   "cell_type": "markdown",
   "metadata": {},
   "source": [
    "### [1.7 Customizing Plots](1.7%20Customizing%20Plots.ipynb)"
   ]
  },
  {
   "cell_type": "markdown",
   "metadata": {},
   "source": [
    "### [1.8 Sharing Plots](1.8%20Sharing%20Plots.ipynb)"
   ]
  },
  {
   "cell_type": "markdown",
   "metadata": {},
   "source": [
    "### [1.9 Introduction to Matplotlib Video](1.9%20Introduction%20to%20Matplotlib%20Video.ipynb)"
   ]
  },
  {
   "cell_type": "markdown",
   "metadata": {},
   "source": [
    "### [1.10 Matplotlib Exercise](1.10%20Matplotlib%20Exercise.ipynb)"
   ]
  },
  {
   "cell_type": "markdown",
   "metadata": {},
   "source": [
    "### [1.11 Matplotlib Exercise Solutions](1.11%20Matplotlib%20Exercise%20Solutions.ipynb)"
   ]
  }
 ],
 "metadata": {
  "interpreter": {
   "hash": "7c2753ee3d3b747e2bc727f5ec1bf0708a31b4b3dd6e00944156fdd88e394a6e"
  },
  "kernelspec": {
   "display_name": "Python 3.8.8 64-bit ('base': conda)",
   "language": "python",
   "name": "python3"
  },
  "language_info": {
   "name": "python",
   "version": "3.8.8"
  },
  "orig_nbformat": 4
 },
 "nbformat": 4,
 "nbformat_minor": 2
}
