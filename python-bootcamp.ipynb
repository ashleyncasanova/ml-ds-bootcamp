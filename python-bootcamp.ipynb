{
 "cells": [
  {
   "cell_type": "markdown",
   "id": "69b3e39f",
   "metadata": {},
   "source": [
    "## Python Bootcamp\n",
    "___"
   ]
  },
  {
   "cell_type": "markdown",
   "id": "d7bcea4c",
   "metadata": {},
   "source": [
    "## Content\n",
    "1. [Data Types](#data-types)\n",
    "    1. [Intro](#intro)\n",
    "    1. [Fundamental Data Types](#fundamental-data-types)\n",
    "        1. [Numbers](#numbers)\n",
    "            1. [Integers](#integers)\n",
    "            1. [Floating Point Numbers](#floating-point-numbers)\n",
    "            1. [Complex Numbers](#complex-numbers)\n",
    "        1. [Strings](#strings)\n",
    "        1. [Booleans](#booleans)\n",
    "        1. [Lists](#lists)\n",
    "1. [Operator Precedence](#operator-precedence)\n",
    "1. [Variables](#variables)\n",
    "1. [Expressions vs Statements](#expressions-vs-statements)\n",
    "1. [Augmented Assignment Operator](#augmented-assignment-operator)\n",
    "1. [Built in Functions](#built-in-functions)\n",
    "1. [Building a Program](#building-a-program)"
   ]
  },
  {
   "cell_type": "markdown",
   "id": "923b073b",
   "metadata": {},
   "source": [
    "<a id=\"data-types\"></a>\n",
    "___"
   ]
  },
  {
   "cell_type": "markdown",
   "id": "a74d7448",
   "metadata": {},
   "source": [
    "### **Data Types**\n",
    "___"
   ]
  },
  {
   "cell_type": "markdown",
   "metadata": {},
   "source": [
    "#### Intro"
   ]
  },
  {
   "cell_type": "code",
   "execution_count": 60,
   "id": "80a12c22",
   "metadata": {},
   "outputs": [],
   "source": [
    "#Fundamental Data Types\n",
    "int\n",
    "float\n",
    "complex\n",
    "str\n",
    "bool\n",
    "list\n",
    "tuple\n",
    "set\n",
    "dict\n",
    "\n",
    "#Classes - custom types\n",
    "\n",
    "#Specialized Data Types - not built into python; extentions / modules we can add\n",
    "\n",
    "#None - nothing\n",
    "None"
   ]
  },
  {
   "cell_type": "markdown",
   "metadata": {},
   "source": [
    "<a id=\"Fundamental Data Types\"></a>\n",
    "___"
   ]
  },
  {
   "cell_type": "markdown",
   "metadata": {},
   "source": [
    "#### Fundamental Data Types\n",
    "___"
   ]
  },
  {
   "cell_type": "markdown",
   "metadata": {},
   "source": [
    "#### Numbers\n",
    "___"
   ]
  },
  {
   "cell_type": "markdown",
   "metadata": {},
   "source": [
    "<a id=\"Integers\"></a>"
   ]
  },
  {
   "cell_type": "markdown",
   "metadata": {},
   "source": [
    "#### Integers"
   ]
  },
  {
   "cell_type": "code",
   "execution_count": 16,
   "metadata": {},
   "outputs": [
    {
     "name": "stdout",
     "output_type": "stream",
     "text": [
      "6\n",
      "-2\n",
      "8\n",
      "0.5\n",
      "16\n",
      "0\n",
      "2\n"
     ]
    }
   ],
   "source": [
    "#Integer - whole numbers \n",
    "int\n",
    "\n",
    "#Integers can be used to perform mathematical operations\n",
    "print(2 + 4)\n",
    "print(2 - 4)\n",
    "print(2 * 4)\n",
    "print(2 / 4)\n",
    "print(2 ** 4)\n",
    "print(2 // 4)\n",
    "print(2 % 4)\n",
    "\n",
    "#Double astrisk (**) is the power operator\n",
    "#The double forward slash (//) returns only the integer value\n",
    "#The modulus operator (%) returns the remainder"
   ]
  },
  {
   "cell_type": "code",
   "execution_count": 17,
   "metadata": {},
   "outputs": [
    {
     "name": "stdout",
     "output_type": "stream",
     "text": [
      "<class 'int'>\n",
      "<class 'int'>\n",
      "<class 'int'>\n",
      "<class 'float'>\n",
      "<class 'int'>\n",
      "<class 'int'>\n",
      "<class 'int'>\n"
     ]
    }
   ],
   "source": [
    "#The type function can tell us the data type we are using\n",
    "print(type(2 + 4))\n",
    "print(type(2 - 4))\n",
    "print(type(2 * 4))\n",
    "print(type(2 / 4))\n",
    "print(type(2 ** 4))\n",
    "print(type(2 // 4))\n",
    "print(type(2 % 4))"
   ]
  },
  {
   "cell_type": "markdown",
   "metadata": {},
   "source": [
    "<a id=\"Floating Point Numbers\"></a>"
   ]
  },
  {
   "cell_type": "markdown",
   "metadata": {},
   "source": [
    "#### Floating Point Numbers"
   ]
  },
  {
   "cell_type": "code",
   "execution_count": 18,
   "id": "d57c8066",
   "metadata": {},
   "outputs": [
    {
     "data": {
      "text/plain": [
       "float"
      ]
     },
     "execution_count": 18,
     "metadata": {},
     "output_type": "execute_result"
    }
   ],
   "source": [
    "#Floating Point Number - decimal number; takes up more memeory\n",
    "float"
   ]
  },
  {
   "cell_type": "code",
   "execution_count": 19,
   "metadata": {},
   "outputs": [
    {
     "name": "stdout",
     "output_type": "stream",
     "text": [
      "0b101\n",
      "5\n"
     ]
    }
   ],
   "source": [
    "#Integers and floats get stored in memory as binary numbers\n",
    "#The bin function returns the binary representation of an integer\n",
    "print(bin(5))\n",
    "\n",
    "#We can use the int function to return the integer from binary \n",
    "print(int(\"0b101\",2))"
   ]
  },
  {
   "cell_type": "code",
   "execution_count": 20,
   "metadata": {},
   "outputs": [
    {
     "name": "stdout",
     "output_type": "stream",
     "text": [
      "20\n",
      "2\n"
     ]
    }
   ],
   "source": [
    "#Other useful functions include\n",
    "print(abs(-20))\n",
    "print(round(2.4))"
   ]
  },
  {
   "cell_type": "markdown",
   "metadata": {},
   "source": [
    "<a id=\"Complex Numbers\"></a>"
   ]
  },
  {
   "cell_type": "markdown",
   "metadata": {},
   "source": [
    "#### Complex Numbers"
   ]
  },
  {
   "cell_type": "code",
   "execution_count": 21,
   "metadata": {},
   "outputs": [
    {
     "data": {
      "text/plain": [
       "complex"
      ]
     },
     "execution_count": 21,
     "metadata": {},
     "output_type": "execute_result"
    }
   ],
   "source": [
    "#Complex - number type for complex math, real number\n",
    "complex"
   ]
  },
  {
   "cell_type": "markdown",
   "metadata": {},
   "source": [
    "<a id=\"Strings\"></a>\n",
    "___"
   ]
  },
  {
   "cell_type": "markdown",
   "metadata": {},
   "source": [
    "#### Strings"
   ]
  },
  {
   "cell_type": "code",
   "execution_count": 8,
   "metadata": {},
   "outputs": [
    {
     "name": "stdout",
     "output_type": "stream",
     "text": [
      "<class 'str'>\n"
     ]
    }
   ],
   "source": [
    "#Strings - text; written using quotation marks\n",
    "print(type(\"Hello!\"))"
   ]
  },
  {
   "cell_type": "code",
   "execution_count": 9,
   "metadata": {},
   "outputs": [
    {
     "name": "stdout",
     "output_type": "stream",
     "text": [
      "\n",
      "WOW\n",
      "O O\n",
      "___\n",
      "\n"
     ]
    }
   ],
   "source": [
    "###Three single quotes are used for extra-long / muli-line strings\n",
    "long_string = '''\n",
    "WOW\n",
    "O O\n",
    "___\n",
    "'''\n",
    "\n",
    "print(long_string)"
   ]
  },
  {
   "cell_type": "code",
   "execution_count": 2,
   "metadata": {},
   "outputs": [
    {
     "name": "stdout",
     "output_type": "stream",
     "text": [
      "Ashley Casanova\n"
     ]
    }
   ],
   "source": [
    "#We can use the plus sign to add strings together (concatenation)\n",
    "first_name = \"Ashley\"\n",
    "last_name = \"Casanova\"\n",
    "full_name = first_name + \" \" + last_name\n",
    "\n",
    "print(full_name)"
   ]
  },
  {
   "cell_type": "code",
   "execution_count": 4,
   "metadata": {},
   "outputs": [
    {
     "name": "stdout",
     "output_type": "stream",
     "text": [
      "<class 'str'>\n"
     ]
    }
   ],
   "source": [
    "#The string function will convert numbers into strings (type conversion)\n",
    "print(type(str(100)))"
   ]
  },
  {
   "cell_type": "code",
   "execution_count": 8,
   "metadata": {},
   "outputs": [
    {
     "ename": "SyntaxError",
     "evalue": "invalid syntax (2927457460.py, line 3)",
     "output_type": "error",
     "traceback": [
      "\u001b[0;36m  File \u001b[0;32m\"/var/folders/91/blh77fzx03q_26vzlcw788pr0000gn/T/ipykernel_1374/2927457460.py\"\u001b[0;36m, line \u001b[0;32m3\u001b[0m\n\u001b[0;31m    weather = \"It's \"kind of\" sunny\"\u001b[0m\n\u001b[0m                     ^\u001b[0m\n\u001b[0;31mSyntaxError\u001b[0m\u001b[0;31m:\u001b[0m invalid syntax\n"
     ]
    }
   ],
   "source": [
    "#Escape Sequences\n",
    "#Need solution otherwise invalid syntax\n",
    "weather = \"It's \"kind of\" sunny\""
   ]
  },
  {
   "cell_type": "code",
   "execution_count": 10,
   "metadata": {},
   "outputs": [
    {
     "name": "stdout",
     "output_type": "stream",
     "text": [
      "It's \"kind of\" sunny\n"
     ]
    }
   ],
   "source": [
    "#Anything immediately following a backslash (\\) is assumed to be a string\n",
    "weather = \"It\\'s \\\"kind of\\\" sunny\"\n",
    "\n",
    "print(weather)"
   ]
  },
  {
   "cell_type": "code",
   "execution_count": 13,
   "metadata": {},
   "outputs": [
    {
     "name": "stdout",
     "output_type": "stream",
     "text": [
      "\t It's \"kind of\" sunny \n",
      " hope you have a good day!\n"
     ]
    }
   ],
   "source": [
    "#Special syntax can be used to inert a tab (\\t) or a new line (\\n)\n",
    "weather = \"\\t It\\'s \\\"kind of\\\" sunny \\n hope you have a good day!\"\n",
    "\n",
    "print(weather)"
   ]
  },
  {
   "cell_type": "code",
   "execution_count": 23,
   "metadata": {},
   "outputs": [
    {
     "name": "stdout",
     "output_type": "stream",
     "text": [
      "Hi Johnny. You are 55 years old.\n",
      "Hi Johnny. You are 55 years old.\n",
      "Hi Johnny. You are 55 years old.\n",
      "Hi 55. You are Johnny years old.\n"
     ]
    }
   ],
   "source": [
    "#Formatted Strings\n",
    "name = \"Johnny\"\n",
    "age = 55\n",
    "\n",
    "#Print using concatenation\n",
    "print(\"Hi \" + name + \". You are \" + str(age) + \" years old.\")\n",
    "\n",
    "#Print using formatted or f strings (new feature of python 3)\n",
    "print(f\"Hi {name}. You are {age} years old.\")\n",
    "\n",
    "#Print using formatted strings (former python 2 method)\n",
    "print(\"Hi {}. You are {} years old.\".format(name,age))\n",
    "\n",
    "#You can change the order of the variables using numbers\n",
    "print(\"Hi {1}. You are {0} years old.\".format(name,age))"
   ]
  },
  {
   "cell_type": "code",
   "execution_count": 46,
   "metadata": {},
   "outputs": [
    {
     "name": "stdout",
     "output_type": "stream",
     "text": [
      "Hello Cindy, your balance is 50.\n",
      "Hello Cindy, your balance is 50.\n",
      "Hello Cindy, your balance is 50.\n",
      "Hello Cindy, your balance is 50.\n",
      "Hello Cindy, your balance is 50\n"
     ]
    }
   ],
   "source": [
    "#Exercise\n",
    "# 1 What would be the output of the below 4 print statements? \n",
    "#Try to answer these before you click RUN!\n",
    "\n",
    "print(\"Hello {}, your balance is {}.\".format(\"Cindy\", 50))\n",
    "\n",
    "print(\"Hello {0}, your balance is {1}.\".format(\"Cindy\", 50))\n",
    "\n",
    "print(\"Hello {name}, your balance is {amount}.\".format(name=\"Cindy\", amount=50))\n",
    "\n",
    "print(\"Hello {0}, your balance is {amount}.\".format(\"Cindy\", amount=50))\n",
    "\n",
    "# 2 How would you write this using f-string? \n",
    "name = \"Cindy\"\n",
    "amount = 50\n",
    "\n",
    "print(f\"Hello {name}, your balance is {amount}\")"
   ]
  },
  {
   "cell_type": "code",
   "execution_count": 47,
   "metadata": {},
   "outputs": [
    {
     "name": "stdout",
     "output_type": "stream",
     "text": [
      "7\n",
      "7\n",
      "01234567\n",
      "01234567\n",
      "01234567\n",
      "0246\n",
      "0246\n",
      "76543210\n"
     ]
    }
   ],
   "source": [
    "#String Index - strings are stored as an ordered sequence of characters\n",
    "index = \"01234567\"\n",
    "\n",
    "#[start]\n",
    "print(index[7])\n",
    "print(index[-1])\n",
    "\n",
    "#[start:stop]\n",
    "print(index[0:8])\n",
    "print(index[0:])\n",
    "print(index[:8])\n",
    "\n",
    "#[start:stop:stepover]\n",
    "print(index[0:8:2])\n",
    "print(index[::2])\n",
    "\n",
    "#A common operation to invert numbers\n",
    "print(index[::-1])"
   ]
  },
  {
   "cell_type": "code",
   "execution_count": 41,
   "metadata": {},
   "outputs": [
    {
     "name": "stdout",
     "output_type": "stream",
     "text": [
      " am\n",
      " am PYTHON\n",
      "I am PYTHON\n",
      " am PYTHON\n",
      "N\n",
      "T\n",
      "I am PYT\n",
      "HON\n",
      "NOHTYP ma I\n"
     ]
    }
   ],
   "source": [
    "#Exercise\n",
    "#Guess the output of each print statement before you click RUN!\n",
    "python = 'I am PYTHON'\n",
    "#         012345678910\n",
    "print(python[1:4])\n",
    "print(python[1:])\n",
    "print(python[:])\n",
    "print(python[1:100])\n",
    "print(python[-1])\n",
    "print(python[-4])\n",
    "print(python[:-3])\n",
    "print(python[-3:])\n",
    "print(python[::-1])"
   ]
  },
  {
   "cell_type": "code",
   "execution_count": 51,
   "metadata": {},
   "outputs": [
    {
     "name": "stdout",
     "output_type": "stream",
     "text": [
      "100\n"
     ]
    }
   ],
   "source": [
    "#String Imutability\n",
    "index = \"01234567\"\n",
    "\n",
    "#You cannot change the value of a string\n",
    "# index[0] = \"8\"\n",
    "\n",
    "#The only way to change a string once it is created is to reassign it\n",
    "index = 100\n",
    "\n",
    "print (index)"
   ]
  },
  {
   "cell_type": "markdown",
   "metadata": {},
   "source": [
    "<a id=\"Booleans\"></a>\n",
    "___"
   ]
  },
  {
   "cell_type": "markdown",
   "metadata": {},
   "source": [
    "#### Booleans"
   ]
  },
  {
   "cell_type": "code",
   "execution_count": 61,
   "metadata": {},
   "outputs": [],
   "source": [
    "#Boolians can either be True or False"
   ]
  },
  {
   "cell_type": "markdown",
   "metadata": {},
   "source": [
    "<a id=\"Lists\"></a>\n",
    "___"
   ]
  },
  {
   "cell_type": "markdown",
   "metadata": {},
   "source": [
    "#### Lists"
   ]
  },
  {
   "cell_type": "code",
   "execution_count": 75,
   "metadata": {},
   "outputs": [
    {
     "name": "stdout",
     "output_type": "stream",
     "text": [
      "sunglasses\n"
     ]
    }
   ],
   "source": [
    "#Lists - ordered sequence of objects that can be of any type (also known as an array)\n",
    "\n",
    "li = [1,2,3,4,5]\n",
    "li2 = [\"a\", \"b\", \"c\"]\n",
    "li3 = [1,2,\"a\", True]\n",
    "\n",
    "#Data Structure\n",
    "amazon_cart = [\"notebooks\", \"sunglasses\"]\n",
    "print(amazon_cart[1])\n"
   ]
  },
  {
   "cell_type": "code",
   "execution_count": 2,
   "metadata": {},
   "outputs": [
    {
     "name": "stdout",
     "output_type": "stream",
     "text": [
      "['notebooks', 'sunglasses']\n",
      "['notebooks', 'toys']\n"
     ]
    }
   ],
   "source": [
    "# List Slicing\n",
    "amazon_cart = [\n",
    "    \"notebooks\",\n",
    "    \"sunglasses\",\n",
    "    \"toys\",\n",
    "    \"grapes\"\n",
    "]\n",
    "\n",
    "print(amazon_cart[0:2])\n",
    "print(amazon_cart[0::2])"
   ]
  },
  {
   "cell_type": "code",
   "execution_count": 3,
   "metadata": {},
   "outputs": [
    {
     "name": "stdout",
     "output_type": "stream",
     "text": [
      "['laptop', 'sunglasses', 'toys', 'grapes']\n"
     ]
    }
   ],
   "source": [
    "#Unlike strings, lists are mutable\n",
    "amazon_cart[0] = 'laptop'\n",
    "print(amazon_cart)"
   ]
  },
  {
   "cell_type": "code",
   "execution_count": 4,
   "metadata": {},
   "outputs": [
    {
     "name": "stdout",
     "output_type": "stream",
     "text": [
      "b\n",
      "b\n",
      "['b', 'c']\n",
      "['z', 'b', 'c']\n",
      "['z', 2, 3]\n",
      "[1, 2, 3, 5]\n"
     ]
    }
   ],
   "source": [
    "#Exercise\n",
    "#What is the output of this code?\n",
    "#Before you clikc RUN, guess the output of each print statement!\n",
    "new_list = ['a', 'b', 'c']\n",
    "print(new_list[1])\n",
    "print(new_list[-2])\n",
    "print(new_list[1:3])\n",
    "new_list[0] = 'z'\n",
    "print(new_list)\n",
    "\n",
    "my_list = [1,2,3]\n",
    "bonus = my_list + [5]\n",
    "my_list[0] = 'z'\n",
    "print(my_list)\n",
    "print(bonus)"
   ]
  },
  {
   "cell_type": "code",
   "execution_count": null,
   "metadata": {},
   "outputs": [
    {
     "name": "stdout",
     "output_type": "stream",
     "text": [
      "2\n"
     ]
    }
   ],
   "source": [
    "#Matrix - way to describe multidimentional lists (used in image processing / machine learning)\n",
    "matrix = [\n",
    "    [1,2,3],\n",
    "    [2,4,6],\n",
    "    [7,8,9]\n",
    "]\n",
    "\n",
    "print(matrix[0][1])"
   ]
  },
  {
   "cell_type": "code",
   "execution_count": 8,
   "metadata": {},
   "outputs": [
    {
     "name": "stdout",
     "output_type": "stream",
     "text": [
      "Oranges\n"
     ]
    }
   ],
   "source": [
    "#Exercise\n",
    "# using this list: \n",
    "basket = [\"Banana\", [\"Apples\", [\"Oranges\"], \"Blueberries\"]];\n",
    "# access \"Oranges\" and print it:\n",
    "\n",
    "print(basket[1][1][0])"
   ]
  },
  {
   "cell_type": "code",
   "execution_count": 32,
   "metadata": {},
   "outputs": [
    {
     "name": "stdout",
     "output_type": "stream",
     "text": [
      "5\n",
      "[]\n",
      "3\n",
      "True\n",
      "False\n",
      "True\n",
      "1\n"
     ]
    }
   ],
   "source": [
    "#List Methods\n",
    "basket = [1,2,3,4,5]\n",
    "print(len(basket)) \n",
    "\n",
    "#adding\n",
    "basket.append(6)\n",
    "basket.insert(4,4.5)\n",
    "basket.extend([7,8])\n",
    "\n",
    "#removing\n",
    "basket.pop()\n",
    "basket.pop()\n",
    "basket.pop(0)\n",
    "basket.clear()\n",
    "\n",
    "print(basket)\n",
    "\n",
    "#searching\n",
    "new_basket = ['a','b','c','d','e']\n",
    "\n",
    "print(new_basket.index('d',0,4))\n",
    "print('d' in new_basket)\n",
    "print('x' in new_basket)\n",
    "print('i' in 'hi, my name is ian')\n",
    "print(new_basket.count('d'))"
   ]
  },
  {
   "cell_type": "code",
   "execution_count": null,
   "metadata": {},
   "outputs": [],
   "source": [
    "#More List Methods\n",
    "basket = ['a','x','b','c','d','e','d']\n",
    "\n",
    "#Method 1: Sorts list by chaging it completely\n",
    "# basket.sort()\n",
    "# print(basket)\n",
    "\n",
    "#Method 2: We are using a function, rather than a method. Sorted produces a new array without modifying basket.\n",
    "# print(sorted(basket))\n",
    "# print(basket)\n",
    "\n",
    "#Method 3: Same result as above. Splicing is used to make a copy of the basket and then it is sorted using the method .sort()\n",
    "new_basket = basket[:]\n",
    "new_basket.sort()\n",
    "print(new_basket)\n",
    "print(basket)"
   ]
  },
  {
   "cell_type": "code",
   "execution_count": 57,
   "metadata": {},
   "outputs": [
    {
     "name": "stdout",
     "output_type": "stream",
     "text": [
      "range(1, 100)\n",
      "[1, 2, 3, 4, 5, 6, 7, 8, 9, 10, 11, 12, 13, 14, 15, 16, 17, 18, 19, 20, 21, 22, 23, 24, 25, 26, 27, 28, 29, 30, 31, 32, 33, 34, 35, 36, 37, 38, 39, 40, 41, 42, 43, 44, 45, 46, 47, 48, 49, 50, 51, 52, 53, 54, 55, 56, 57, 58, 59, 60, 61, 62, 63, 64, 65, 66, 67, 68, 69, 70, 71, 72, 73, 74, 75, 76, 77, 78, 79, 80, 81, 82, 83, 84, 85, 86, 87, 88, 89, 90, 91, 92, 93, 94, 95, 96, 97, 98, 99]\n",
      "[0, 1, 2, 3, 4, 5, 6, 7, 8, 9, 10, 11, 12, 13, 14, 15, 16, 17, 18, 19, 20, 21, 22, 23, 24, 25, 26, 27, 28, 29, 30, 31, 32, 33, 34, 35, 36, 37, 38, 39, 40, 41, 42, 43, 44, 45, 46, 47, 48, 49, 50, 51, 52, 53, 54, 55, 56, 57, 58, 59, 60, 61, 62, 63, 64, 65, 66, 67, 68, 69, 70, 71, 72, 73, 74, 75, 76, 77, 78, 79, 80, 81, 82, 83, 84, 85, 86, 87, 88, 89, 90, 91, 92, 93, 94, 95, 96, 97, 98, 99]\n",
      "hi my name is ian\n",
      "hi my name is ian\n"
     ]
    }
   ],
   "source": [
    "#Common List Patterns\n",
    "basket = ['a','x','b','c','d','e','d']\n",
    "basket.sort()\n",
    "basket.reverse()\n",
    "# print(basket[::-1])\n",
    "# print(len(basket))\n",
    "\n",
    "print(range(1,100))\n",
    "print(list(range(1,100)))\n",
    "print(list(range(100)))\n",
    "\n",
    "sentence = ' '\n",
    "new_sentence = sentence.join(['hi', 'my', 'name', 'is', 'ian'])\n",
    "another_sentence = ' '.join(['hi', 'my', 'name', 'is', 'ian'])\n",
    "\n",
    "print(new_sentence)\n",
    "print(another_sentence)"
   ]
  },
  {
   "cell_type": "code",
   "execution_count": 58,
   "metadata": {},
   "outputs": [
    {
     "name": "stdout",
     "output_type": "stream",
     "text": [
      "['Amira', 'Carrie', 'Chu', 'Joy', 'Patty', 'Simon', 'Stanley']\n"
     ]
    }
   ],
   "source": [
    "#Exercise\n",
    "#fix this code so that it prints a sorted list of all of our friends (alphabetical).\n",
    "\n",
    "#Origional code given:\n",
    "friends = ['Simon', 'Patty', 'Joy', 'Carrie', 'Amira', 'Chu']\n",
    "new_friend = ['Stanley']\n",
    "# print(friends.sort() + new_friend)\n",
    "\n",
    "#Answer 1: Replace last two lines of code\n",
    "# friends.append('Stanley')\n",
    "# friends.sort()\n",
    "# print(friends)\n",
    "\n",
    "#Answer 2: Replace last line of code\n",
    "friends.extend(new_friend)\n",
    "print(sorted(friends))"
   ]
  },
  {
   "cell_type": "code",
   "execution_count": 68,
   "metadata": {},
   "outputs": [
    {
     "name": "stdout",
     "output_type": "stream",
     "text": [
      "1 2 3\n",
      "1\n",
      "2\n",
      "3\n",
      "[4, 5, 6, 7, 8]\n",
      "9\n"
     ]
    }
   ],
   "source": [
    "#List Unpacking\n",
    "#Unpacking is a way to assign multiple variables from a list in one line of code.\n",
    "# a,b,c = 1,2,3\n",
    "# a,b,c = [1,2,3,4,5,6,7,8,9]\n",
    "# a,b,c, *other = [1,2,3,4,5,6,7,8,9]\n",
    "a,b,c, *other, d = [1,2,3,4,5,6,7,8,9]\n",
    "\n",
    "print(a,b,c)\n",
    "print(a)\n",
    "print(b)\n",
    "print(c)\n",
    "print(other)\n",
    "print(d)"
   ]
  },
  {
   "cell_type": "markdown",
   "metadata": {},
   "source": [
    "<a id=\"operator-precedence\"></a>\n",
    "___"
   ]
  },
  {
   "cell_type": "markdown",
   "metadata": {},
   "source": [
    "### Operator Precedence"
   ]
  },
  {
   "cell_type": "code",
   "execution_count": 22,
   "metadata": {},
   "outputs": [
    {
     "name": "stdout",
     "output_type": "stream",
     "text": [
      "8\n",
      "21\n"
     ]
    }
   ],
   "source": [
    "#Order of Operations - BODMAS\n",
    "# ()\n",
    "# **\n",
    "# / *\n",
    "# + -\n",
    "\n",
    "print(20 - 3 * 4)\n",
    "\n",
    "print((20 - 3) + 2 ** 2)"
   ]
  },
  {
   "cell_type": "code",
   "execution_count": 42,
   "metadata": {},
   "outputs": [
    {
     "name": "stdout",
     "output_type": "stream",
     "text": [
      "45.0\n",
      "45.0\n",
      "45.0\n",
      "25.0\n",
      "25\n"
     ]
    }
   ],
   "source": [
    "#Exercise\n",
    "# Guess the output of each answer before you click RUN\n",
    "# Try to write down your answer before and see how you do... keep it mind I made it a little tricky for you :)\n",
    "\n",
    "print((5 + 4) * 10 / 2)\n",
    "\n",
    "print(((5 + 4) * 10) / 2)\n",
    "\n",
    "print((5 + 4) * (10 / 2))\n",
    "\n",
    "print(5 + (4 * 10) / 2)\n",
    "\n",
    "print(5 + 4 * 10 // 2)"
   ]
  },
  {
   "cell_type": "markdown",
   "metadata": {},
   "source": [
    "<a id=\"variables\"></a>\n",
    "___"
   ]
  },
  {
   "cell_type": "markdown",
   "metadata": {},
   "source": [
    "### Variables"
   ]
  },
  {
   "cell_type": "code",
   "execution_count": 23,
   "metadata": {},
   "outputs": [
    {
     "name": "stdout",
     "output_type": "stream",
     "text": [
      "190\n"
     ]
    }
   ],
   "source": [
    "#Variables are used to store information\n",
    "#Assigning a name to a value is called binding\n",
    "iq = 190\n",
    "print(iq)"
   ]
  },
  {
   "cell_type": "markdown",
   "metadata": {},
   "source": [
    "#### Format"
   ]
  },
  {
   "cell_type": "code",
   "execution_count": 24,
   "metadata": {},
   "outputs": [
    {
     "name": "stdout",
     "output_type": "stream",
     "text": [
      "190\n"
     ]
    }
   ],
   "source": [
    "#snake_case\n",
    "user_iq = 190\n",
    "print(user_iq)"
   ]
  },
  {
   "cell_type": "code",
   "execution_count": 27,
   "metadata": {},
   "outputs": [
    {
     "ename": "SyntaxError",
     "evalue": "invalid syntax (2103512812.py, line 4)",
     "output_type": "error",
     "traceback": [
      "\u001b[0;36m  File \u001b[0;32m\"/var/folders/91/blh77fzx03q_26vzlcw788pr0000gn/T/ipykernel_54086/2103512812.py\"\u001b[0;36m, line \u001b[0;32m4\u001b[0m\n\u001b[0;31m    2user_iq = 190\u001b[0m\n\u001b[0m     ^\u001b[0m\n\u001b[0;31mSyntaxError\u001b[0m\u001b[0;31m:\u001b[0m invalid syntax\n"
     ]
    }
   ],
   "source": [
    "#start with lower case or underscore\n",
    "_user_iq = 190\n",
    "user_iq = 190\n",
    "2user_iq = 190"
   ]
  },
  {
   "cell_type": "code",
   "execution_count": 28,
   "metadata": {},
   "outputs": [],
   "source": [
    "#letters, numbers, underscores\n",
    "user2_iq = 190"
   ]
  },
  {
   "cell_type": "code",
   "execution_count": 26,
   "metadata": {},
   "outputs": [
    {
     "ename": "NameError",
     "evalue": "name 'USER_IQ' is not defined",
     "output_type": "error",
     "traceback": [
      "\u001b[0;31m---------------------------------------------------------------------------\u001b[0m",
      "\u001b[0;31mNameError\u001b[0m                                 Traceback (most recent call last)",
      "\u001b[0;32m/var/folders/91/blh77fzx03q_26vzlcw788pr0000gn/T/ipykernel_54086/1624772143.py\u001b[0m in \u001b[0;36m<module>\u001b[0;34m\u001b[0m\n\u001b[1;32m      1\u001b[0m \u001b[0;31m#case sensitive\u001b[0m\u001b[0;34m\u001b[0m\u001b[0;34m\u001b[0m\u001b[0m\n\u001b[1;32m      2\u001b[0m \u001b[0muser_iq\u001b[0m \u001b[0;34m=\u001b[0m \u001b[0;36m190\u001b[0m\u001b[0;34m\u001b[0m\u001b[0;34m\u001b[0m\u001b[0m\n\u001b[0;32m----> 3\u001b[0;31m \u001b[0mprint\u001b[0m\u001b[0;34m(\u001b[0m\u001b[0mUSER_IQ\u001b[0m\u001b[0;34m)\u001b[0m\u001b[0;34m\u001b[0m\u001b[0;34m\u001b[0m\u001b[0m\n\u001b[0m",
      "\u001b[0;31mNameError\u001b[0m: name 'USER_IQ' is not defined"
     ]
    }
   ],
   "source": [
    "#case sensitive\n",
    "user_iq = 190\n",
    "print(USER_IQ)"
   ]
  },
  {
   "cell_type": "code",
   "execution_count": 25,
   "metadata": {},
   "outputs": [
    {
     "ename": "TypeError",
     "evalue": "'int' object is not callable",
     "output_type": "error",
     "traceback": [
      "\u001b[0;31m---------------------------------------------------------------------------\u001b[0m",
      "\u001b[0;31mTypeError\u001b[0m                                 Traceback (most recent call last)",
      "\u001b[0;32m/var/folders/91/blh77fzx03q_26vzlcw788pr0000gn/T/ipykernel_54086/1706924942.py\u001b[0m in \u001b[0;36m<module>\u001b[0;34m\u001b[0m\n\u001b[1;32m      1\u001b[0m \u001b[0;31m#don't overwrite keywords\u001b[0m\u001b[0;34m\u001b[0m\u001b[0;34m\u001b[0m\u001b[0m\n\u001b[1;32m      2\u001b[0m \u001b[0mprint\u001b[0m \u001b[0;34m=\u001b[0m \u001b[0;36m190\u001b[0m\u001b[0;34m\u001b[0m\u001b[0;34m\u001b[0m\u001b[0m\n\u001b[0;32m----> 3\u001b[0;31m \u001b[0mprint\u001b[0m\u001b[0;34m(\u001b[0m\u001b[0mprint\u001b[0m\u001b[0;34m)\u001b[0m\u001b[0;34m\u001b[0m\u001b[0;34m\u001b[0m\u001b[0m\n\u001b[0m",
      "\u001b[0;31mTypeError\u001b[0m: 'int' object is not callable"
     ]
    }
   ],
   "source": [
    "#don't overwrite keywords\n",
    "print = 190\n",
    "print(print)"
   ]
  },
  {
   "cell_type": "code",
   "execution_count": 29,
   "metadata": {},
   "outputs": [
    {
     "ename": "TypeError",
     "evalue": "'int' object is not callable",
     "output_type": "error",
     "traceback": [
      "\u001b[0;31m---------------------------------------------------------------------------\u001b[0m",
      "\u001b[0;31mTypeError\u001b[0m                                 Traceback (most recent call last)",
      "\u001b[0;32m/var/folders/91/blh77fzx03q_26vzlcw788pr0000gn/T/ipykernel_54086/3010625163.py\u001b[0m in \u001b[0;36m<module>\u001b[0;34m\u001b[0m\n\u001b[1;32m      1\u001b[0m \u001b[0;31m#comma seperated variable assignment\u001b[0m\u001b[0;34m\u001b[0m\u001b[0;34m\u001b[0m\u001b[0m\n\u001b[1;32m      2\u001b[0m \u001b[0ma\u001b[0m\u001b[0;34m,\u001b[0m\u001b[0mb\u001b[0m\u001b[0;34m,\u001b[0m\u001b[0mc\u001b[0m \u001b[0;34m=\u001b[0m \u001b[0;36m1\u001b[0m\u001b[0;34m,\u001b[0m\u001b[0;36m2\u001b[0m\u001b[0;34m,\u001b[0m\u001b[0;36m3\u001b[0m\u001b[0;34m\u001b[0m\u001b[0;34m\u001b[0m\u001b[0m\n\u001b[0;32m----> 3\u001b[0;31m \u001b[0mprint\u001b[0m\u001b[0;34m(\u001b[0m\u001b[0ma\u001b[0m\u001b[0;34m)\u001b[0m\u001b[0;34m\u001b[0m\u001b[0;34m\u001b[0m\u001b[0m\n\u001b[0m\u001b[1;32m      4\u001b[0m \u001b[0mprint\u001b[0m\u001b[0;34m(\u001b[0m\u001b[0mb\u001b[0m\u001b[0;34m)\u001b[0m\u001b[0;34m\u001b[0m\u001b[0;34m\u001b[0m\u001b[0m\n\u001b[1;32m      5\u001b[0m \u001b[0mprint\u001b[0m\u001b[0;34m(\u001b[0m\u001b[0mc\u001b[0m\u001b[0;34m)\u001b[0m\u001b[0;34m\u001b[0m\u001b[0;34m\u001b[0m\u001b[0m\n",
      "\u001b[0;31mTypeError\u001b[0m: 'int' object is not callable"
     ]
    }
   ],
   "source": [
    "#comma seperated variable assignment\n",
    "a,b,c = 1,2,3\n",
    "print(a)\n",
    "print(b)\n",
    "print(c)"
   ]
  },
  {
   "cell_type": "markdown",
   "metadata": {},
   "source": [
    "<a id=\"Expressions vs Statements\"></a>\n",
    "___"
   ]
  },
  {
   "cell_type": "markdown",
   "metadata": {},
   "source": [
    "### Expressions vs Statements"
   ]
  },
  {
   "cell_type": "code",
   "execution_count": 2,
   "metadata": {},
   "outputs": [],
   "source": [
    "iq = 190\n",
    "user_age = iq / 5"
   ]
  },
  {
   "cell_type": "code",
   "execution_count": 6,
   "metadata": {},
   "outputs": [],
   "source": [
    "#Expression - piece of code that produces a value --> iq / 5\n",
    "\n",
    "#Statement - entire line of code that performs some type of action --> user_age = iq / 5 or iq = 190"
   ]
  },
  {
   "cell_type": "markdown",
   "metadata": {},
   "source": [
    "<a id=\"Augmented Assignment Operator\"></a>\n",
    "___"
   ]
  },
  {
   "cell_type": "markdown",
   "metadata": {},
   "source": [
    "### Augmented Assignment Operator"
   ]
  },
  {
   "cell_type": "code",
   "execution_count": 5,
   "metadata": {},
   "outputs": [
    {
     "name": "stdout",
     "output_type": "stream",
     "text": [
      "7\n",
      "7\n"
     ]
    }
   ],
   "source": [
    "#Instead of using the code\n",
    "some_value = 5\n",
    "some_value = some_value + 2\n",
    "print(some_value)\n",
    "\n",
    "#We can write\n",
    "some_value = 5\n",
    "some_value += 2\n",
    "print(some_value)\n",
    "\n",
    "#This also works for other mathematical operators (+ - * /)"
   ]
  },
  {
   "cell_type": "code",
   "execution_count": 44,
   "metadata": {},
   "outputs": [
    {
     "name": "stdout",
     "output_type": "stream",
     "text": [
      "6\n"
     ]
    }
   ],
   "source": [
    "#Exercise\n",
    "counter = 0\n",
    "\n",
    "counter += 1\n",
    "counter += 1\n",
    "counter += 1\n",
    "counter += 1\n",
    "counter -= 1\n",
    "counter *=2\n",
    "\n",
    "#Before you click RUN, guess what the counter variable holds in memory!\n",
    "print(counter)"
   ]
  },
  {
   "cell_type": "markdown",
   "metadata": {},
   "source": [
    "<a id=\"Built in Functions\"></a>\n",
    "___"
   ]
  },
  {
   "cell_type": "markdown",
   "metadata": {},
   "source": [
    "### Built in Functions"
   ]
  },
  {
   "cell_type": "code",
   "execution_count": 52,
   "metadata": {},
   "outputs": [
    {
     "name": "stdout",
     "output_type": "stream",
     "text": [
      "12\n"
     ]
    }
   ],
   "source": [
    "#The length function returns the length of a string\n",
    "print(len(\"Helllllooooo\"))"
   ]
  },
  {
   "cell_type": "code",
   "execution_count": 59,
   "metadata": {},
   "outputs": [
    {
     "name": "stdout",
     "output_type": "stream",
     "text": [
      "TO BE OR NOT TO BE\n",
      "To be or not to be\n",
      "3\n",
      "to me or not to me\n",
      "to be or not to be\n"
     ]
    }
   ],
   "source": [
    "#String Methods\n",
    "quote = \"to be or not to be\"\n",
    "\n",
    "print(quote.upper())\n",
    "\n",
    "print(quote.capitalize())\n",
    "\n",
    "print(quote.find(\"be\"))\n",
    "\n",
    "print(quote.replace(\"be\",\"me\"))\n",
    "\n",
    "print(quote)"
   ]
  },
  {
   "cell_type": "markdown",
   "metadata": {},
   "source": [
    "<a id=\"Building a Program\"></a>\n",
    "___"
   ]
  },
  {
   "cell_type": "markdown",
   "metadata": {},
   "source": [
    "#### Building a Program"
   ]
  },
  {
   "cell_type": "code",
   "execution_count": 66,
   "metadata": {},
   "outputs": [
    {
     "name": "stdout",
     "output_type": "stream",
     "text": [
      "Your age is: 31\n"
     ]
    }
   ],
   "source": [
    "#Build a program to guess someones age\n",
    "birth_year = input(\"What year were you born? \")\n",
    "age = 2021 - int(birth_year)\n",
    "\n",
    "print(f\"Your age is: {age}\")"
   ]
  },
  {
   "cell_type": "code",
   "execution_count": 73,
   "metadata": {},
   "outputs": [
    {
     "name": "stdout",
     "output_type": "stream",
     "text": [
      "username, your password, ********, is 8 letters long\n"
     ]
    }
   ],
   "source": [
    "#Build a password checker\n",
    "username = input(\"username: \")\n",
    "password = input(\"password: \")\n",
    "\n",
    "password_length = len(password)\n",
    "hidden_password = \"*\" * password_length\n",
    "\n",
    "print(f\"{username}, your password, {hidden_password}, is {password_length} letters long\")\n"
   ]
  },
  {
   "cell_type": "code",
   "execution_count": null,
   "metadata": {},
   "outputs": [],
   "source": []
  }
 ],
 "metadata": {
  "interpreter": {
   "hash": "aee8b7b246df8f9039afb4144a1f6fd8d2ca17a180786b69acc140d282b71a49"
  },
  "kernelspec": {
   "display_name": "Python 3.9.7 64-bit",
   "name": "python3"
  },
  "language_info": {
   "codemirror_mode": {
    "name": "ipython",
    "version": 3
   },
   "file_extension": ".py",
   "mimetype": "text/x-python",
   "name": "python",
   "nbconvert_exporter": "python",
   "pygments_lexer": "ipython3",
   "version": "3.9.7"
  }
 },
 "nbformat": 4,
 "nbformat_minor": 5
}
