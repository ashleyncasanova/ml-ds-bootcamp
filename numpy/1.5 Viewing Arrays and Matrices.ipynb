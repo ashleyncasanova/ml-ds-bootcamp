{
 "cells": [
  {
   "cell_type": "markdown",
   "metadata": {},
   "source": [
    "## 1.5 Viewing Arrays and Matricies"
   ]
  },
  {
   "cell_type": "code",
   "execution_count": 1,
   "metadata": {},
   "outputs": [],
   "source": [
    "import numpy as np\n",
    "import pandas as pd"
   ]
  },
  {
   "cell_type": "markdown",
   "metadata": {},
   "source": [
    "Arrays and matrices are both `ndarray`'s and can be viewed in similar ways."
   ]
  },
  {
   "cell_type": "code",
   "execution_count": 2,
   "metadata": {},
   "outputs": [],
   "source": [
    "# 1-D array (vector)\n",
    "a1 = np.array([1, 2, 3])\n",
    "\n",
    "# 2-D array (matrix)\n",
    "a2 = np.array([[1, 2.0, 3.3],\n",
    "               [4, 5, 6.5]])\n",
    "\n",
    "# 3-D array (matrix)\n",
    "a3 = np.array([[[1, 2, 3],\n",
    "                [4, 5, 6],\n",
    "                [7, 8, 9]],\n",
    "                [[10, 11, 12],\n",
    "                [13, 14, 15],\n",
    "                [16, 17, 18]]])"
   ]
  },
  {
   "cell_type": "code",
   "execution_count": 4,
   "metadata": {},
   "outputs": [
    {
     "data": {
      "text/plain": [
       "array([ 1,  2,  3,  4,  5,  6,  7,  8,  9, 10, 11, 12, 13, 14, 15, 16, 17,\n",
       "       18])"
      ]
     },
     "execution_count": 4,
     "metadata": {},
     "output_type": "execute_result"
    }
   ],
   "source": [
    "# Exercise: What numpy function would you use to find the unique values in a3?\n",
    "\n",
    "np.unique(a3)"
   ]
  },
  {
   "cell_type": "markdown",
   "metadata": {},
   "source": [
    "Let's check out our three arrays again."
   ]
  },
  {
   "cell_type": "code",
   "execution_count": 8,
   "metadata": {},
   "outputs": [
    {
     "data": {
      "text/plain": [
       "array([1, 2, 3])"
      ]
     },
     "execution_count": 8,
     "metadata": {},
     "output_type": "execute_result"
    }
   ],
   "source": [
    "a1"
   ]
  },
  {
   "cell_type": "code",
   "execution_count": 9,
   "metadata": {},
   "outputs": [
    {
     "data": {
      "text/plain": [
       "array([[1. , 2. , 3.3],\n",
       "       [4. , 5. , 6.5]])"
      ]
     },
     "execution_count": 9,
     "metadata": {},
     "output_type": "execute_result"
    }
   ],
   "source": [
    "a2"
   ]
  },
  {
   "cell_type": "code",
   "execution_count": 10,
   "metadata": {},
   "outputs": [
    {
     "data": {
      "text/plain": [
       "array([[[ 1,  2,  3],\n",
       "        [ 4,  5,  6],\n",
       "        [ 7,  8,  9]],\n",
       "\n",
       "       [[10, 11, 12],\n",
       "        [13, 14, 15],\n",
       "        [16, 17, 18]]])"
      ]
     },
     "execution_count": 10,
     "metadata": {},
     "output_type": "execute_result"
    }
   ],
   "source": [
    "a3"
   ]
  },
  {
   "cell_type": "markdown",
   "metadata": {},
   "source": [
    "Array shapes are always listed in the format `(row, column, n, n, n, ...)` where `n` is the number of dimensions."
   ]
  },
  {
   "cell_type": "code",
   "execution_count": 25,
   "metadata": {},
   "outputs": [],
   "source": [
    "## HELP!!!!!!!\n",
    "# Aren't array shapes listed as (n, row, column)?"
   ]
  },
  {
   "cell_type": "code",
   "execution_count": 26,
   "metadata": {},
   "outputs": [
    {
     "data": {
      "text/plain": [
       "1"
      ]
     },
     "execution_count": 26,
     "metadata": {},
     "output_type": "execute_result"
    }
   ],
   "source": [
    "# Because a1 is a 1-D array, we only need to specify the column index.\n",
    "a1[0]"
   ]
  },
  {
   "cell_type": "code",
   "execution_count": 28,
   "metadata": {},
   "outputs": [
    {
     "data": {
      "text/plain": [
       "1.0"
      ]
     },
     "execution_count": 28,
     "metadata": {},
     "output_type": "execute_result"
    }
   ],
   "source": [
    "# Because a2 is a 2-D array, we need to specify both the row and column index.\n",
    "a2[0,0]"
   ]
  },
  {
   "cell_type": "code",
   "execution_count": 29,
   "metadata": {},
   "outputs": [
    {
     "data": {
      "text/plain": [
       "array([1. , 2. , 3.3])"
      ]
     },
     "execution_count": 29,
     "metadata": {},
     "output_type": "execute_result"
    }
   ],
   "source": [
    "a2[0]"
   ]
  },
  {
   "cell_type": "code",
   "execution_count": 31,
   "metadata": {},
   "outputs": [
    {
     "data": {
      "text/plain": [
       "1"
      ]
     },
     "execution_count": 31,
     "metadata": {},
     "output_type": "execute_result"
    }
   ],
   "source": [
    "# Because a3 is a 3-D array, we need to specify all three indices.\n",
    "a3[0,0,0]"
   ]
  },
  {
   "cell_type": "code",
   "execution_count": 30,
   "metadata": {},
   "outputs": [
    {
     "data": {
      "text/plain": [
       "array([[1, 2, 3],\n",
       "       [4, 5, 6],\n",
       "       [7, 8, 9]])"
      ]
     },
     "execution_count": 30,
     "metadata": {},
     "output_type": "execute_result"
    }
   ],
   "source": [
    "a3[0]"
   ]
  },
  {
   "cell_type": "code",
   "execution_count": 12,
   "metadata": {},
   "outputs": [
    {
     "data": {
      "text/plain": [
       "array([4. , 5. , 6.5])"
      ]
     },
     "execution_count": 12,
     "metadata": {},
     "output_type": "execute_result"
    }
   ],
   "source": [
    "# Exercise: Get 2nd row (index 1) of a2\n",
    "a2[1]"
   ]
  },
  {
   "cell_type": "code",
   "execution_count": 24,
   "metadata": {},
   "outputs": [
    {
     "data": {
      "text/plain": [
       "array([[[ 1,  2],\n",
       "        [ 4,  5]],\n",
       "\n",
       "       [[10, 11],\n",
       "        [13, 14]]])"
      ]
     },
     "execution_count": 24,
     "metadata": {},
     "output_type": "execute_result"
    }
   ],
   "source": [
    "# Exercise: Get the first two values of the first two rows of both arrays in a3\n",
    "a3[:2, :2, :2]"
   ]
  },
  {
   "cell_type": "markdown",
   "metadata": {},
   "source": [
    "As dimensions increase, the harder this becomes."
   ]
  },
  {
   "cell_type": "code",
   "execution_count": 32,
   "metadata": {},
   "outputs": [
    {
     "data": {
      "text/plain": [
       "array([[[[7, 8, 7, 8, 6],\n",
       "         [5, 1, 2, 4, 8],\n",
       "         [8, 4, 4, 7, 2],\n",
       "         [5, 5, 0, 2, 7]],\n",
       "\n",
       "        [[3, 8, 1, 8, 9],\n",
       "         [8, 8, 5, 1, 7],\n",
       "         [7, 2, 1, 6, 8],\n",
       "         [6, 2, 3, 6, 8]],\n",
       "\n",
       "        [[5, 3, 9, 9, 1],\n",
       "         [4, 6, 5, 0, 2],\n",
       "         [9, 0, 3, 6, 0],\n",
       "         [7, 7, 4, 0, 9]]],\n",
       "\n",
       "\n",
       "       [[[5, 1, 7, 1, 7],\n",
       "         [0, 1, 9, 1, 6],\n",
       "         [9, 6, 9, 5, 4],\n",
       "         [2, 0, 9, 4, 1]],\n",
       "\n",
       "        [[7, 0, 1, 1, 7],\n",
       "         [7, 6, 6, 7, 1],\n",
       "         [1, 9, 6, 3, 9],\n",
       "         [5, 8, 0, 7, 5]],\n",
       "\n",
       "        [[4, 2, 4, 4, 9],\n",
       "         [4, 3, 2, 3, 3],\n",
       "         [6, 0, 9, 3, 0],\n",
       "         [8, 4, 5, 8, 4]]]])"
      ]
     },
     "execution_count": 32,
     "metadata": {},
     "output_type": "execute_result"
    }
   ],
   "source": [
    "# Exercise: Get only the first 4 numbers of each single vector in a4.\n",
    "a4 = np.random.randint(10, size=(2, 3, 4, 5))\n",
    "a4"
   ]
  },
  {
   "cell_type": "code",
   "execution_count": 33,
   "metadata": {},
   "outputs": [
    {
     "data": {
      "text/plain": [
       "array([[[[7, 8, 7, 8],\n",
       "         [5, 1, 2, 4],\n",
       "         [8, 4, 4, 7],\n",
       "         [5, 5, 0, 2]],\n",
       "\n",
       "        [[3, 8, 1, 8],\n",
       "         [8, 8, 5, 1],\n",
       "         [7, 2, 1, 6],\n",
       "         [6, 2, 3, 6]],\n",
       "\n",
       "        [[5, 3, 9, 9],\n",
       "         [4, 6, 5, 0],\n",
       "         [9, 0, 3, 6],\n",
       "         [7, 7, 4, 0]]],\n",
       "\n",
       "\n",
       "       [[[5, 1, 7, 1],\n",
       "         [0, 1, 9, 1],\n",
       "         [9, 6, 9, 5],\n",
       "         [2, 0, 9, 4]],\n",
       "\n",
       "        [[7, 0, 1, 1],\n",
       "         [7, 6, 6, 7],\n",
       "         [1, 9, 6, 3],\n",
       "         [5, 8, 0, 7]],\n",
       "\n",
       "        [[4, 2, 4, 4],\n",
       "         [4, 3, 2, 3],\n",
       "         [6, 0, 9, 3],\n",
       "         [8, 4, 5, 8]]]])"
      ]
     },
     "execution_count": 33,
     "metadata": {},
     "output_type": "execute_result"
    }
   ],
   "source": [
    "a4[:, :, :, :4]"
   ]
  },
  {
   "cell_type": "code",
   "execution_count": 34,
   "metadata": {},
   "outputs": [],
   "source": [
    "# Note: `a4`'s shape (2, 3, 4, 5) means: \n",
    "# There are 2 outer arrays, made up of 3 inner arrays, each with 4 rows and 5 columns."
   ]
  }
 ],
 "metadata": {
  "interpreter": {
   "hash": "7c2753ee3d3b747e2bc727f5ec1bf0708a31b4b3dd6e00944156fdd88e394a6e"
  },
  "kernelspec": {
   "display_name": "Python 3.8.8 64-bit ('base': conda)",
   "language": "python",
   "name": "python3"
  },
  "language_info": {
   "codemirror_mode": {
    "name": "ipython",
    "version": 3
   },
   "file_extension": ".py",
   "mimetype": "text/x-python",
   "name": "python",
   "nbconvert_exporter": "python",
   "pygments_lexer": "ipython3",
   "version": "3.8.8"
  },
  "orig_nbformat": 4
 },
 "nbformat": 4,
 "nbformat_minor": 2
}
