{
 "cells": [
  {
   "cell_type": "markdown",
   "metadata": {},
   "source": [
    "## 1.01 Introduction to SciKit-Learn"
   ]
  },
  {
   "cell_type": "markdown",
   "metadata": {},
   "source": [
    "Scikit-learn (sklearn) is a Python library for machine learning and data mining.\n",
    "\n",
    "If we have data, scikit-learn helps us build machine learning models that learn patterns within that data, and then make predictions and implements tools to help us evaluate those predictions."
   ]
  },
  {
   "cell_type": "markdown",
   "metadata": {},
   "source": [
    "**Why Scikit-Learn?**\n",
    "* Built on NumPy and Matplotlib (python libraries for numerical computing and data visualization)\n",
    "* Has many built-in machine learining models\n",
    "* Methods to evaluate machine learning models\n",
    "* Very well designed API (Application Programming Interface or programming library)"
   ]
  },
  {
   "cell_type": "markdown",
   "metadata": {},
   "source": [
    "**What are we going to cover?**\n",
    "\n",
    "Overview of Scikit-Learn Workflow:\n",
    "<img src=\"images/sklearn-workflow-title.png\" alt=\"a 6 step scikit-learn workflow\">\n",
    "\n",
    "End-to-End Scikit-Learn Workflow:\n",
    "1. Getting the data ready (to be used with machine learning models)\n",
    "2. Choose the right machine learning estimator/ algorithm/ model for your problem\n",
    "3. Fitting model to data (learning patterns) and using it to make a prediction (using patterns)\n",
    "4. Evaluating a machine learning model\n",
    "5. Improving predictions through experimentation (hyperparameter tuning)\n",
    "6. Saving and loading the pretrained model\n",
    "7. Putting it all together in a pipeline"
   ]
  }
 ],
 "metadata": {
  "language_info": {
   "name": "python"
  },
  "orig_nbformat": 4
 },
 "nbformat": 4,
 "nbformat_minor": 2
}
