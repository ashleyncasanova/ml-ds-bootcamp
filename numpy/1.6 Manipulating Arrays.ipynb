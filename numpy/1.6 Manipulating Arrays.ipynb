{
 "cells": [
  {
   "cell_type": "markdown",
   "metadata": {},
   "source": [
    "## 1.6 Manipulating Arrays"
   ]
  },
  {
   "cell_type": "markdown",
   "metadata": {},
   "source": [
    "___\n",
    "Arithmetic\n",
    "* `+`, `-`, `*`, `/`, `//`, `**`, `%`\n",
    "* `np.exp()`\n",
    "* `np.log()`\n",
    "* `np.dot()`\n",
    "* Broadcasting\n",
    "\n",
    "Aggregation\n",
    "* `np.sum()` - faster than `np.sum()`\n",
    "* `np.mean()`\n",
    "* `np.std()`\n",
    "* `np.var()`\n",
    "* `np.min()`\n",
    "* `np.max()`\n",
    "* `np.argmin()` - find index of min value\n",
    "* `np.argmax()` - find index of max value\n",
    "\n",
    "Reshaping\n",
    "* `np.reshape()`\n",
    "\n",
    "Transposing\n",
    "* `.T`\n",
    "\n",
    "Comparison operators\n",
    "* `>`\n",
    "* `<`\n",
    "* `<=`\n",
    "* `>=`\n",
    "* `!=`\n",
    "* `==`\n",
    "___"
   ]
  }
 ],
 "metadata": {
  "interpreter": {
   "hash": "7c2753ee3d3b747e2bc727f5ec1bf0708a31b4b3dd6e00944156fdd88e394a6e"
  },
  "kernelspec": {
   "display_name": "Python 3.8.8 64-bit ('base': conda)",
   "language": "python",
   "name": "python3"
  },
  "language_info": {
   "codemirror_mode": {
    "name": "ipython",
    "version": 3
   },
   "file_extension": ".py",
   "mimetype": "text/x-python",
   "name": "python",
   "nbconvert_exporter": "python",
   "pygments_lexer": "ipython3",
   "version": "3.8.8"
  },
  "orig_nbformat": 4
 },
 "nbformat": 4,
 "nbformat_minor": 2
}
