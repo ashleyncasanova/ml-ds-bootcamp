{
 "cells": [
  {
   "cell_type": "markdown",
   "id": "a6b8dc11",
   "metadata": {},
   "source": [
    "## 1.2 Setting Up Work Environment"
   ]
  },
  {
   "cell_type": "markdown",
   "id": "c3467697",
   "metadata": {},
   "source": [
    "1. Download anaconda or miniconda (choose pkg version)\n",
    "2. Install it to your computer\n",
    "3. Test the installation via terminal (which conda)\n",
    "4. Create a project folder and change into it\n",
    "5. Create a custom environment within project folder\n",
    "6. Activate new environment (conda activate)\n",
    "7. Load up Jupyter Notebook and check tools you need\n"
   ]
  },
  {
   "cell_type": "markdown",
   "id": "7a596ac4",
   "metadata": {},
   "source": [
    "Conda is used to create environment and then to install the tools/ packages we want to use:"
   ]
  },
  {
   "cell_type": "code",
   "execution_count": null,
   "id": "d15f7084",
   "metadata": {},
   "outputs": [],
   "source": []
  },
  {
   "cell_type": "markdown",
   "id": "1cb0f24a",
   "metadata": {},
   "source": [
    "**Once anaconda or miniconda is installed, we can test the installation via the terminal:**"
   ]
  },
  {
   "cell_type": "code",
   "execution_count": 2,
   "id": "ebbe6ecc",
   "metadata": {},
   "outputs": [
    {
     "name": "stdout",
     "output_type": "stream",
     "text": [
      "/Users/ashleycasanova/opt/anaconda3/bin/conda\r\n"
     ]
    }
   ],
   "source": [
    "!which conda"
   ]
  },
  {
   "cell_type": "markdown",
   "id": "d4111353",
   "metadata": {},
   "source": [
    "**Next, we can create a project folder and change into it:**"
   ]
  },
  {
   "cell_type": "code",
   "execution_count": null,
   "id": "59f3f9ba",
   "metadata": {},
   "outputs": [],
   "source": []
  }
 ],
 "metadata": {
  "kernelspec": {
   "display_name": "Python 3",
   "language": "python",
   "name": "python3"
  },
  "language_info": {
   "codemirror_mode": {
    "name": "ipython",
    "version": 3
   },
   "file_extension": ".py",
   "mimetype": "text/x-python",
   "name": "python",
   "nbconvert_exporter": "python",
   "pygments_lexer": "ipython3",
   "version": "3.8.8"
  }
 },
 "nbformat": 4,
 "nbformat_minor": 5
}
