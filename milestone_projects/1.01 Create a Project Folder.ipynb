{
 "cells": [
  {
   "cell_type": "markdown",
   "metadata": {},
   "source": [
    "## **Create a Project Folder**\n",
    "\n",
    "* Project folder should contain a virtual environment and data file"
   ]
  },
  {
   "cell_type": "markdown",
   "metadata": {},
   "source": [
    "___"
   ]
  },
  {
   "cell_type": "markdown",
   "metadata": {},
   "source": [
    "### 1. Create a project folder\n",
    "```\n",
    "mkdir heart-disease-project\n",
    "```"
   ]
  },
  {
   "cell_type": "markdown",
   "metadata": {},
   "source": [
    "___"
   ]
  },
  {
   "cell_type": "markdown",
   "metadata": {},
   "source": [
    "### 2. Move into project folder\n",
    "```\n",
    "cd heart-disease-project\n",
    "```"
   ]
  },
  {
   "cell_type": "markdown",
   "metadata": {},
   "source": [
    "___"
   ]
  },
  {
   "cell_type": "markdown",
   "metadata": {},
   "source": [
    "### 3. Create an environment folder inside of our project folder"
   ]
  },
  {
   "cell_type": "markdown",
   "metadata": {},
   "source": [
    "#### Method 1: Replicate existing environment\n",
    "View current environments\n",
    "```\n",
    "conda env list\n",
    "```\n",
    "\\\n",
    "Activate environment we want to replicate\n",
    "(ex: /Users/daniel/Desktop/ml-course/sample-project/env)\n",
    "```\n",
    "conda activate /Users/daniel/Desktop/ml-course/sample-project/env\n",
    "```\n",
    "\\\n",
    "Export environment as a yaml file (text file of instructions to build environment)\n",
    "```\n",
    "conda env export > environment.yml\n",
    "```\n",
    "\\\n",
    "Check to see environment\n",
    "```\n",
    "ls\n",
    "```\n",
    ">This will return the folder environment.yml\n",
    "\n",
    "\\\n",
    "To check what is in our yml file\n",
    "```\n",
    "vim environment.yml\n",
    "```\n",
    ">Press `escape (or shift)`, then `;` and  `Q` to exit this view\n",
    "\n",
    "\\\n",
    "To create new environment we need to deactivate the current one\n",
    "```\n",
    "conda deactivate\n",
    "```\n",
    "\\\n",
    "To create an environment from a yaml folder we need to cd back into our project folder\n",
    "```\n",
    "cd ..//heart-disease-project\n",
    "```\n",
    "\\\n",
    "Now we can create our env folder containing the same tools\n",
    "```\n",
    "conda env create --prefix ./env -f ../environment.yml\n",
    "```"
   ]
  },
  {
   "cell_type": "markdown",
   "metadata": {},
   "source": [
    "___"
   ]
  },
  {
   "cell_type": "markdown",
   "metadata": {},
   "source": [
    "#### Method 2: Create a new virtual environment\n",
    "Create new environment passing it the tools you want\n",
    "```\n",
    "conda env create --prefix ./env pandas scikit-learn numpy matplotlib jupyter\n",
    "```"
   ]
  },
  {
   "cell_type": "markdown",
   "metadata": {},
   "source": [
    "___"
   ]
  },
  {
   "cell_type": "markdown",
   "metadata": {},
   "source": [
    "#### Note: We can check to see our environment using the command\n",
    "```\n",
    "conda env list\n",
    "```"
   ]
  },
  {
   "cell_type": "markdown",
   "metadata": {},
   "source": [
    "___"
   ]
  },
  {
   "cell_type": "markdown",
   "metadata": {},
   "source": [
    "### 4. Activate environment\n",
    "Activate environment from base\n",
    "```\n",
    "conda activate /Users/daniel/Desktop/ml-course/heart-disease-project/env\n",
    "```"
   ]
  },
  {
   "cell_type": "markdown",
   "metadata": {},
   "source": [
    "___"
   ]
  },
  {
   "cell_type": "markdown",
   "metadata": {},
   "source": [
    "#### 5. Open environment in jupyter notebook\n",
    "```\n",
    "jupyter notebook\n",
    "```"
   ]
  },
  {
   "cell_type": "markdown",
   "metadata": {},
   "source": [
    "___"
   ]
  },
  {
   "cell_type": "markdown",
   "metadata": {},
   "source": [
    "#### 6. Add Data to project folder"
   ]
  }
 ],
 "metadata": {
  "language_info": {
   "name": "python"
  },
  "orig_nbformat": 4
 },
 "nbformat": 4,
 "nbformat_minor": 2
}
