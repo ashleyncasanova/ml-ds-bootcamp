{
 "cells": [
  {
   "cell_type": "markdown",
   "metadata": {},
   "source": [
    "**Pandas is a data analysis library used to explore, analyze and manipulate data.**"
   ]
  },
  {
   "cell_type": "markdown",
   "metadata": {},
   "source": [
    "**Why pandas?**\n",
    "* Simple to use\n",
    "* Integrated with many other data science & ML Python tools\n",
    "* Helps you get your data ready for machine learning"
   ]
  },
  {
   "cell_type": "markdown",
   "metadata": {},
   "source": [
    "**What are we going to cover?**\n",
    "* Most useful functions\n",
    "* pandas Datatypes\n",
    "* Importing & exporting data\n",
    "* Describing data\n",
    "* Viewing & selecting data\n",
    "* Manipulating data"
   ]
  },
  {
   "cell_type": "markdown",
   "metadata": {},
   "source": [
    "**Importing pandas into our notebook:**"
   ]
  },
  {
   "cell_type": "code",
   "execution_count": null,
   "metadata": {},
   "outputs": [],
   "source": [
    "# import pandas as pd"
   ]
  },
  {
   "cell_type": "markdown",
   "metadata": {},
   "source": [
    "**There are two main data types:**\n",
    "* Series\n",
    "* DataFrame"
   ]
  },
  {
   "cell_type": "code",
   "execution_count": null,
   "metadata": {},
   "outputs": [],
   "source": [
    "# # Series = 1-dimensional\n",
    "# series = pd.Series([\"BMW\", \"Toyota\", \"Honda\"])\n",
    "# series"
   ]
  },
  {
   "cell_type": "code",
   "execution_count": null,
   "metadata": {},
   "outputs": [],
   "source": [
    "# colours = pd.Series([\"Red\", \"Blue\", \"White\"])\n",
    "# colours"
   ]
  },
  {
   "cell_type": "code",
   "execution_count": null,
   "metadata": {},
   "outputs": [],
   "source": [
    "# # DataFrame = 2-dimensional (takes a dictionary)\n",
    "# car_data = pd.DataFrame({\"Car make\": series, \"Colour\": colours})\n",
    "# car_data"
   ]
  },
  {
   "cell_type": "markdown",
   "metadata": {},
   "source": [
    "**We can also import data:**"
   ]
  },
  {
   "cell_type": "code",
   "execution_count": null,
   "metadata": {},
   "outputs": [],
   "source": [
    "# # Step 1. Download or export spreadsheets to csv files and move into project folders.\n",
    "# # Step 2. Import csv into jupyter notebook:\n",
    "# car_sales = pd.read_csv(\"car-sales.csv\")\n",
    "# car_sales"
   ]
  },
  {
   "cell_type": "markdown",
   "metadata": {},
   "source": [
    "**Anatomy of a DataFrame:**\n",
    "* axis = 0 --> row\n",
    "* axis = 1 --> column\n",
    "* The first column of a data frame is the index (starts at 0)\n"
   ]
  },
  {
   "cell_type": "markdown",
   "metadata": {},
   "source": [
    "**Exporting DataFrames:**"
   ]
  },
  {
   "cell_type": "code",
   "execution_count": null,
   "metadata": {},
   "outputs": [],
   "source": [
    "# car_sales.to_csv(\"exported-car-sales.csv, index=False)"
   ]
  },
  {
   "cell_type": "code",
   "execution_count": null,
   "metadata": {},
   "outputs": [],
   "source": []
  }
 ],
 "metadata": {
  "kernelspec": {
   "display_name": "Python 3",
   "language": "python",
   "name": "python3"
  },
  "language_info": {
   "codemirror_mode": {
    "name": "ipython",
    "version": 3
   },
   "file_extension": ".py",
   "mimetype": "text/x-python",
   "name": "python",
   "nbconvert_exporter": "python",
   "pygments_lexer": "ipython3",
   "version": "3.9.7"
  }
 },
 "nbformat": 4,
 "nbformat_minor": 2
}
