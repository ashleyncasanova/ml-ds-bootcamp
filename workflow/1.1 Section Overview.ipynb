{
 "cells": [
  {
   "cell_type": "markdown",
   "id": "41a62687",
   "metadata": {},
   "source": [
    "## 1.1 Section Overview"
   ]
  },
  {
   "cell_type": "markdown",
   "id": "e113d121",
   "metadata": {},
   "source": [
    "**Anaconda and miniconda are software distributions.**\n",
    "* Anaconda requires ~3GB of space and installs all of the makor data science and machine learning packages.\n",
    "* Miniconda only uses ~200 MB of space and installs the minimum requirements to get started.\n",
    "    * Python, Jupyter Notebook, Pandas, Matplotlib, etc.\n",
    "\n",
    "**Conda is a package manager used by both anaconda and miniconda.**\n",
    "* Packages/ tools are collections of code written by other people\n",
    "* conda helps you download, install and manage these packages"
   ]
  },
  {
   "cell_type": "markdown",
   "id": "19c59498",
   "metadata": {},
   "source": [
    "**Each new project should have its own folder containing:**\n",
    "* Virtual Environment - collection of tools/ packages\n",
    "* Data\n",
    "\n"
   ]
  },
  {
   "cell_type": "markdown",
   "id": "ceb48e97",
   "metadata": {},
   "source": [
    "**Why we use Virtual Environments:**\n",
    "* Allows you to share projects with the same set of tools and packages without running into dependency issues (when you dont have the right package for the problem you are working on."
   ]
  },
  {
   "cell_type": "markdown",
   "id": "a9464d46",
   "metadata": {},
   "source": [
    "**What we will go over:**"
   ]
  },
  {
   "cell_type": "markdown",
   "id": "816d94ac",
   "metadata": {},
   "source": [
    "1. Download anaconda or miniconda (choose pkg version)\n",
    "2. Install it to your computer\n",
    "3. Test the installation via terminal (which conda)\n",
    "4. Create a project folder and change into it\n",
    "5. Create a custom environment within project folder\n",
    "6. Activate new environment (conda activate)\n",
    "7. Load up Jupyter Notebook and check tools you need\n"
   ]
  }
 ],
 "metadata": {
  "kernelspec": {
   "display_name": "Python 3",
   "language": "python",
   "name": "python3"
  },
  "language_info": {
   "codemirror_mode": {
    "name": "ipython",
    "version": 3
   },
   "file_extension": ".py",
   "mimetype": "text/x-python",
   "name": "python",
   "nbconvert_exporter": "python",
   "pygments_lexer": "ipython3",
   "version": "3.8.8"
  }
 },
 "nbformat": 4,
 "nbformat_minor": 5
}
