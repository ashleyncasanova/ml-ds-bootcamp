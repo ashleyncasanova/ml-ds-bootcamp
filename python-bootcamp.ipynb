{
 "cells": [
  {
   "cell_type": "markdown",
   "id": "69b3e39f",
   "metadata": {},
   "source": [
    "## Python Bootcamp\n",
    "___"
   ]
  },
  {
   "cell_type": "markdown",
   "id": "d7bcea4c",
   "metadata": {},
   "source": [
    "## Content\n",
    "1. [Data Types](#data-types)\n",
    "    1. [Intro](#intro)\n",
    "    1. [Fundamental Data Types](#fundamental-data-types)\n",
    "        1. [Numbers](#numbers)\n",
    "            1. [Integers](#integers)\n",
    "            1. [Floating Point Numbers](#floating-point-numbers)\n",
    "            1. [Complex Numbers](#complex-numbers)\n",
    "        1. [Strings](#strings)\n",
    "        1. [Booleans](#booleans)\n",
    "        1. [Lists](#lists)\n",
    "        1. [Tuples](#tuples)\n",
    "        1. [Sets](#sets)\n",
    "        1. [Dictionaries](#dictionaries)\n",
    "    1. [None](#none)\n",
    "1. [Operator Precedence](#operator-precedence)\n",
    "1. [Variables](#variables)\n",
    "1. [Expressions vs Statements](#expressions-vs-statements)\n",
    "1. [Augmented Assignment Operator](#augmented-assignment-operator)\n",
    "1. [Built in Functions](#built-in-functions)\n",
    "1. [Building a Program](#building-a-program)\n",
    "1. [Conditional Logic](#conditional-logic)\n",
    "    1. [Truthy and Falsey](#truthy-and-falsey)\n",
    "    1. [Ternary Operator](#ternary-operator)\n",
    "    1. [Short Circuiting](#short-circuiting)\n",
    "    1. [Logical Operators](#logical-operators)"
   ]
  },
  {
   "cell_type": "markdown",
   "id": "923b073b",
   "metadata": {},
   "source": [
    "<a id=\"data-types\"></a>\n",
    "___"
   ]
  },
  {
   "cell_type": "markdown",
   "id": "a74d7448",
   "metadata": {},
   "source": [
    "### **Data Types**\n",
    "___"
   ]
  },
  {
   "cell_type": "markdown",
   "metadata": {},
   "source": [
    "#### Intro"
   ]
  },
  {
   "cell_type": "code",
   "execution_count": 60,
   "id": "80a12c22",
   "metadata": {},
   "outputs": [],
   "source": [
    "#Fundamental Data Types\n",
    "int\n",
    "float\n",
    "complex\n",
    "str\n",
    "bool\n",
    "list\n",
    "tuple\n",
    "set\n",
    "dict\n",
    "\n",
    "#Classes - custom types\n",
    "\n",
    "#Specialized Data Types - not built into python; extentions / modules we can add\n",
    "\n",
    "#None - nothing\n",
    "None"
   ]
  },
  {
   "cell_type": "markdown",
   "metadata": {},
   "source": [
    "<a id=\"Fundamental Data Types\"></a>\n",
    "___"
   ]
  },
  {
   "cell_type": "markdown",
   "metadata": {},
   "source": [
    "#### Fundamental Data Types\n",
    "___"
   ]
  },
  {
   "cell_type": "markdown",
   "metadata": {},
   "source": [
    "#### Numbers\n",
    "___"
   ]
  },
  {
   "cell_type": "markdown",
   "metadata": {},
   "source": [
    "<a id=\"Integers\"></a>"
   ]
  },
  {
   "cell_type": "markdown",
   "metadata": {},
   "source": [
    "#### Integers"
   ]
  },
  {
   "cell_type": "code",
   "execution_count": 16,
   "metadata": {},
   "outputs": [
    {
     "name": "stdout",
     "output_type": "stream",
     "text": [
      "6\n",
      "-2\n",
      "8\n",
      "0.5\n",
      "16\n",
      "0\n",
      "2\n"
     ]
    }
   ],
   "source": [
    "#Integer - whole numbers \n",
    "int\n",
    "\n",
    "#Integers can be used to perform mathematical operations\n",
    "print(2 + 4)\n",
    "print(2 - 4)\n",
    "print(2 * 4)\n",
    "print(2 / 4)\n",
    "print(2 ** 4)\n",
    "print(2 // 4)\n",
    "print(2 % 4)\n",
    "\n",
    "#Double astrisk (**) is the power operator\n",
    "#The double forward slash (//) returns only the integer value\n",
    "#The modulus operator (%) returns the remainder"
   ]
  },
  {
   "cell_type": "code",
   "execution_count": 17,
   "metadata": {},
   "outputs": [
    {
     "name": "stdout",
     "output_type": "stream",
     "text": [
      "<class 'int'>\n",
      "<class 'int'>\n",
      "<class 'int'>\n",
      "<class 'float'>\n",
      "<class 'int'>\n",
      "<class 'int'>\n",
      "<class 'int'>\n"
     ]
    }
   ],
   "source": [
    "#The type function can tell us the data type we are using\n",
    "print(type(2 + 4))\n",
    "print(type(2 - 4))\n",
    "print(type(2 * 4))\n",
    "print(type(2 / 4))\n",
    "print(type(2 ** 4))\n",
    "print(type(2 // 4))\n",
    "print(type(2 % 4))"
   ]
  },
  {
   "cell_type": "markdown",
   "metadata": {},
   "source": [
    "<a id=\"Floating Point Numbers\"></a>"
   ]
  },
  {
   "cell_type": "markdown",
   "metadata": {},
   "source": [
    "#### Floating Point Numbers"
   ]
  },
  {
   "cell_type": "code",
   "execution_count": 18,
   "id": "d57c8066",
   "metadata": {},
   "outputs": [
    {
     "data": {
      "text/plain": [
       "float"
      ]
     },
     "execution_count": 18,
     "metadata": {},
     "output_type": "execute_result"
    }
   ],
   "source": [
    "#Floating Point Number - decimal number; takes up more memeory\n",
    "float"
   ]
  },
  {
   "cell_type": "code",
   "execution_count": 19,
   "metadata": {},
   "outputs": [
    {
     "name": "stdout",
     "output_type": "stream",
     "text": [
      "0b101\n",
      "5\n"
     ]
    }
   ],
   "source": [
    "#Integers and floats get stored in memory as binary numbers\n",
    "#The bin function returns the binary representation of an integer\n",
    "print(bin(5))\n",
    "\n",
    "#We can use the int function to return the integer from binary \n",
    "print(int(\"0b101\",2))"
   ]
  },
  {
   "cell_type": "code",
   "execution_count": 20,
   "metadata": {},
   "outputs": [
    {
     "name": "stdout",
     "output_type": "stream",
     "text": [
      "20\n",
      "2\n"
     ]
    }
   ],
   "source": [
    "#Other useful functions include\n",
    "print(abs(-20))\n",
    "print(round(2.4))"
   ]
  },
  {
   "cell_type": "markdown",
   "metadata": {},
   "source": [
    "<a id=\"Complex Numbers\"></a>"
   ]
  },
  {
   "cell_type": "markdown",
   "metadata": {},
   "source": [
    "#### Complex Numbers"
   ]
  },
  {
   "cell_type": "code",
   "execution_count": 21,
   "metadata": {},
   "outputs": [
    {
     "data": {
      "text/plain": [
       "complex"
      ]
     },
     "execution_count": 21,
     "metadata": {},
     "output_type": "execute_result"
    }
   ],
   "source": [
    "#Complex - number type for complex math, real number\n",
    "complex"
   ]
  },
  {
   "cell_type": "markdown",
   "metadata": {},
   "source": [
    "<a id=\"Strings\"></a>\n",
    "___"
   ]
  },
  {
   "cell_type": "markdown",
   "metadata": {},
   "source": [
    "### Strings"
   ]
  },
  {
   "cell_type": "code",
   "execution_count": 8,
   "metadata": {},
   "outputs": [
    {
     "name": "stdout",
     "output_type": "stream",
     "text": [
      "<class 'str'>\n"
     ]
    }
   ],
   "source": [
    "#Strings - text; written using quotation marks\n",
    "print(type(\"Hello!\"))"
   ]
  },
  {
   "cell_type": "code",
   "execution_count": 9,
   "metadata": {},
   "outputs": [
    {
     "name": "stdout",
     "output_type": "stream",
     "text": [
      "\n",
      "WOW\n",
      "O O\n",
      "___\n",
      "\n"
     ]
    }
   ],
   "source": [
    "###Three single quotes are used for extra-long / muli-line strings\n",
    "long_string = '''\n",
    "WOW\n",
    "O O\n",
    "___\n",
    "'''\n",
    "\n",
    "print(long_string)"
   ]
  },
  {
   "cell_type": "code",
   "execution_count": 2,
   "metadata": {},
   "outputs": [
    {
     "name": "stdout",
     "output_type": "stream",
     "text": [
      "Ashley Casanova\n"
     ]
    }
   ],
   "source": [
    "#We can use the plus sign to add strings together (concatenation)\n",
    "first_name = \"Ashley\"\n",
    "last_name = \"Casanova\"\n",
    "full_name = first_name + \" \" + last_name\n",
    "\n",
    "print(full_name)"
   ]
  },
  {
   "cell_type": "code",
   "execution_count": 4,
   "metadata": {},
   "outputs": [
    {
     "name": "stdout",
     "output_type": "stream",
     "text": [
      "<class 'str'>\n"
     ]
    }
   ],
   "source": [
    "#The string function will convert numbers into strings (type conversion)\n",
    "print(type(str(100)))"
   ]
  },
  {
   "cell_type": "code",
   "execution_count": 8,
   "metadata": {},
   "outputs": [
    {
     "ename": "SyntaxError",
     "evalue": "invalid syntax (2927457460.py, line 3)",
     "output_type": "error",
     "traceback": [
      "\u001b[0;36m  File \u001b[0;32m\"/var/folders/91/blh77fzx03q_26vzlcw788pr0000gn/T/ipykernel_1374/2927457460.py\"\u001b[0;36m, line \u001b[0;32m3\u001b[0m\n\u001b[0;31m    weather = \"It's \"kind of\" sunny\"\u001b[0m\n\u001b[0m                     ^\u001b[0m\n\u001b[0;31mSyntaxError\u001b[0m\u001b[0;31m:\u001b[0m invalid syntax\n"
     ]
    }
   ],
   "source": [
    "#Escape Sequences\n",
    "#Need solution otherwise invalid syntax\n",
    "weather = \"It's \"kind of\" sunny\""
   ]
  },
  {
   "cell_type": "code",
   "execution_count": 10,
   "metadata": {},
   "outputs": [
    {
     "name": "stdout",
     "output_type": "stream",
     "text": [
      "It's \"kind of\" sunny\n"
     ]
    }
   ],
   "source": [
    "#Anything immediately following a backslash (\\) is assumed to be a string\n",
    "weather = \"It\\'s \\\"kind of\\\" sunny\"\n",
    "\n",
    "print(weather)"
   ]
  },
  {
   "cell_type": "code",
   "execution_count": 13,
   "metadata": {},
   "outputs": [
    {
     "name": "stdout",
     "output_type": "stream",
     "text": [
      "\t It's \"kind of\" sunny \n",
      " hope you have a good day!\n"
     ]
    }
   ],
   "source": [
    "#Special syntax can be used to inert a tab (\\t) or a new line (\\n)\n",
    "weather = \"\\t It\\'s \\\"kind of\\\" sunny \\n hope you have a good day!\"\n",
    "\n",
    "print(weather)"
   ]
  },
  {
   "cell_type": "code",
   "execution_count": 23,
   "metadata": {},
   "outputs": [
    {
     "name": "stdout",
     "output_type": "stream",
     "text": [
      "Hi Johnny. You are 55 years old.\n",
      "Hi Johnny. You are 55 years old.\n",
      "Hi Johnny. You are 55 years old.\n",
      "Hi 55. You are Johnny years old.\n"
     ]
    }
   ],
   "source": [
    "#Formatted Strings\n",
    "name = \"Johnny\"\n",
    "age = 55\n",
    "\n",
    "#Print using concatenation\n",
    "print(\"Hi \" + name + \". You are \" + str(age) + \" years old.\")\n",
    "\n",
    "#Print using formatted or f strings (new feature of python 3)\n",
    "print(f\"Hi {name}. You are {age} years old.\")\n",
    "\n",
    "#Print using formatted strings (former python 2 method)\n",
    "print(\"Hi {}. You are {} years old.\".format(name,age))\n",
    "\n",
    "#You can change the order of the variables using numbers\n",
    "print(\"Hi {1}. You are {0} years old.\".format(name,age))"
   ]
  },
  {
   "cell_type": "code",
   "execution_count": 46,
   "metadata": {},
   "outputs": [
    {
     "name": "stdout",
     "output_type": "stream",
     "text": [
      "Hello Cindy, your balance is 50.\n",
      "Hello Cindy, your balance is 50.\n",
      "Hello Cindy, your balance is 50.\n",
      "Hello Cindy, your balance is 50.\n",
      "Hello Cindy, your balance is 50\n"
     ]
    }
   ],
   "source": [
    "#Exercise\n",
    "# 1 What would be the output of the below 4 print statements? \n",
    "#Try to answer these before you click RUN!\n",
    "\n",
    "print(\"Hello {}, your balance is {}.\".format(\"Cindy\", 50))\n",
    "\n",
    "print(\"Hello {0}, your balance is {1}.\".format(\"Cindy\", 50))\n",
    "\n",
    "print(\"Hello {name}, your balance is {amount}.\".format(name=\"Cindy\", amount=50))\n",
    "\n",
    "print(\"Hello {0}, your balance is {amount}.\".format(\"Cindy\", amount=50))\n",
    "\n",
    "# 2 How would you write this using f-string? \n",
    "name = \"Cindy\"\n",
    "amount = 50\n",
    "\n",
    "print(f\"Hello {name}, your balance is {amount}\")"
   ]
  },
  {
   "cell_type": "code",
   "execution_count": 47,
   "metadata": {},
   "outputs": [
    {
     "name": "stdout",
     "output_type": "stream",
     "text": [
      "7\n",
      "7\n",
      "01234567\n",
      "01234567\n",
      "01234567\n",
      "0246\n",
      "0246\n",
      "76543210\n"
     ]
    }
   ],
   "source": [
    "#String Index - strings are stored as an ordered sequence of characters\n",
    "index = \"01234567\"\n",
    "\n",
    "#[start]\n",
    "print(index[7])\n",
    "print(index[-1])\n",
    "\n",
    "#[start:stop]\n",
    "print(index[0:8])\n",
    "print(index[0:])\n",
    "print(index[:8])\n",
    "\n",
    "#[start:stop:stepover]\n",
    "print(index[0:8:2])\n",
    "print(index[::2])\n",
    "\n",
    "#A common operation to invert numbers\n",
    "print(index[::-1])"
   ]
  },
  {
   "cell_type": "code",
   "execution_count": 41,
   "metadata": {},
   "outputs": [
    {
     "name": "stdout",
     "output_type": "stream",
     "text": [
      " am\n",
      " am PYTHON\n",
      "I am PYTHON\n",
      " am PYTHON\n",
      "N\n",
      "T\n",
      "I am PYT\n",
      "HON\n",
      "NOHTYP ma I\n"
     ]
    }
   ],
   "source": [
    "#Exercise\n",
    "#Guess the output of each print statement before you click RUN!\n",
    "python = 'I am PYTHON'\n",
    "#         012345678910\n",
    "print(python[1:4])\n",
    "print(python[1:])\n",
    "print(python[:])\n",
    "print(python[1:100])\n",
    "print(python[-1])\n",
    "print(python[-4])\n",
    "print(python[:-3])\n",
    "print(python[-3:])\n",
    "print(python[::-1])"
   ]
  },
  {
   "cell_type": "code",
   "execution_count": 51,
   "metadata": {},
   "outputs": [
    {
     "name": "stdout",
     "output_type": "stream",
     "text": [
      "100\n"
     ]
    }
   ],
   "source": [
    "#String Imutability\n",
    "index = \"01234567\"\n",
    "\n",
    "#You cannot change the value of a string\n",
    "# index[0] = \"8\"\n",
    "\n",
    "#The only way to change a string once it is created is to reassign it\n",
    "index = 100\n",
    "\n",
    "print (index)"
   ]
  },
  {
   "cell_type": "markdown",
   "metadata": {},
   "source": [
    "<a id=\"Booleans\"></a>\n",
    "___"
   ]
  },
  {
   "cell_type": "markdown",
   "metadata": {},
   "source": [
    "### Booleans"
   ]
  },
  {
   "cell_type": "code",
   "execution_count": 61,
   "metadata": {},
   "outputs": [],
   "source": [
    "#Boolians can either be True or False"
   ]
  },
  {
   "cell_type": "markdown",
   "metadata": {},
   "source": [
    "<a id=\"Lists\"></a>\n",
    "___"
   ]
  },
  {
   "cell_type": "markdown",
   "metadata": {},
   "source": [
    "### Lists"
   ]
  },
  {
   "cell_type": "code",
   "execution_count": 75,
   "metadata": {},
   "outputs": [
    {
     "name": "stdout",
     "output_type": "stream",
     "text": [
      "sunglasses\n"
     ]
    }
   ],
   "source": [
    "#Lists - ordered sequence of objects that can be of any type (also known as an array)\n",
    "\n",
    "li = [1,2,3,4,5]\n",
    "li2 = [\"a\", \"b\", \"c\"]\n",
    "li3 = [1,2,\"a\", True]\n",
    "\n",
    "#Data Structure\n",
    "amazon_cart = [\"notebooks\", \"sunglasses\"]\n",
    "print(amazon_cart[1])\n"
   ]
  },
  {
   "cell_type": "code",
   "execution_count": 2,
   "metadata": {},
   "outputs": [
    {
     "name": "stdout",
     "output_type": "stream",
     "text": [
      "['notebooks', 'sunglasses']\n",
      "['notebooks', 'toys']\n"
     ]
    }
   ],
   "source": [
    "# List Slicing\n",
    "amazon_cart = [\n",
    "    \"notebooks\",\n",
    "    \"sunglasses\",\n",
    "    \"toys\",\n",
    "    \"grapes\"\n",
    "]\n",
    "\n",
    "print(amazon_cart[0:2])\n",
    "print(amazon_cart[0::2])"
   ]
  },
  {
   "cell_type": "code",
   "execution_count": 3,
   "metadata": {},
   "outputs": [
    {
     "name": "stdout",
     "output_type": "stream",
     "text": [
      "['laptop', 'sunglasses', 'toys', 'grapes']\n"
     ]
    }
   ],
   "source": [
    "#Unlike strings, lists are mutable\n",
    "amazon_cart[0] = 'laptop'\n",
    "print(amazon_cart)"
   ]
  },
  {
   "cell_type": "code",
   "execution_count": 4,
   "metadata": {},
   "outputs": [
    {
     "name": "stdout",
     "output_type": "stream",
     "text": [
      "b\n",
      "b\n",
      "['b', 'c']\n",
      "['z', 'b', 'c']\n",
      "['z', 2, 3]\n",
      "[1, 2, 3, 5]\n"
     ]
    }
   ],
   "source": [
    "#Exercise\n",
    "#What is the output of this code?\n",
    "#Before you clikc RUN, guess the output of each print statement!\n",
    "new_list = ['a', 'b', 'c']\n",
    "print(new_list[1])\n",
    "print(new_list[-2])\n",
    "print(new_list[1:3])\n",
    "new_list[0] = 'z'\n",
    "print(new_list)\n",
    "\n",
    "my_list = [1,2,3]\n",
    "bonus = my_list + [5]\n",
    "my_list[0] = 'z'\n",
    "print(my_list)\n",
    "print(bonus)"
   ]
  },
  {
   "cell_type": "code",
   "execution_count": null,
   "metadata": {},
   "outputs": [
    {
     "name": "stdout",
     "output_type": "stream",
     "text": [
      "2\n"
     ]
    }
   ],
   "source": [
    "#Matrix - way to describe multidimentional lists (used in image processing / machine learning)\n",
    "matrix = [\n",
    "    [1,2,3],\n",
    "    [2,4,6],\n",
    "    [7,8,9]\n",
    "]\n",
    "\n",
    "print(matrix[0][1])"
   ]
  },
  {
   "cell_type": "code",
   "execution_count": 8,
   "metadata": {},
   "outputs": [
    {
     "name": "stdout",
     "output_type": "stream",
     "text": [
      "Oranges\n"
     ]
    }
   ],
   "source": [
    "#Exercise\n",
    "# using this list: \n",
    "basket = [\"Banana\", [\"Apples\", [\"Oranges\"], \"Blueberries\"]];\n",
    "# access \"Oranges\" and print it:\n",
    "\n",
    "print(basket[1][1][0])"
   ]
  },
  {
   "cell_type": "code",
   "execution_count": 32,
   "metadata": {},
   "outputs": [
    {
     "name": "stdout",
     "output_type": "stream",
     "text": [
      "5\n",
      "[]\n",
      "3\n",
      "True\n",
      "False\n",
      "True\n",
      "1\n"
     ]
    }
   ],
   "source": [
    "#List Methods\n",
    "basket = [1,2,3,4,5]\n",
    "print(len(basket)) \n",
    "\n",
    "#adding\n",
    "basket.append(6)\n",
    "basket.insert(4,4.5)\n",
    "basket.extend([7,8])\n",
    "\n",
    "#removing\n",
    "basket.pop()\n",
    "basket.pop()\n",
    "basket.pop(0)\n",
    "basket.clear()\n",
    "\n",
    "print(basket)\n",
    "\n",
    "#searching\n",
    "new_basket = ['a','b','c','d','e']\n",
    "\n",
    "print(new_basket.index('d',0,4))\n",
    "print('d' in new_basket)\n",
    "print('x' in new_basket)\n",
    "print('i' in 'hi, my name is ian')\n",
    "print(new_basket.count('d'))"
   ]
  },
  {
   "cell_type": "code",
   "execution_count": null,
   "metadata": {},
   "outputs": [],
   "source": [
    "#More List Methods\n",
    "basket = ['a','x','b','c','d','e','d']\n",
    "\n",
    "#Method 1: Sorts list by chaging it completely\n",
    "# basket.sort()\n",
    "# print(basket)\n",
    "\n",
    "#Method 2: We are using a function, rather than a method. Sorted produces a new array without modifying basket.\n",
    "# print(sorted(basket))\n",
    "# print(basket)\n",
    "\n",
    "#Method 3: Same result as above. Splicing is used to make a copy of the basket and then it is sorted using the method .sort()\n",
    "new_basket = basket[:]\n",
    "new_basket.sort()\n",
    "print(new_basket)\n",
    "print(basket)"
   ]
  },
  {
   "cell_type": "code",
   "execution_count": 57,
   "metadata": {},
   "outputs": [
    {
     "name": "stdout",
     "output_type": "stream",
     "text": [
      "range(1, 100)\n",
      "[1, 2, 3, 4, 5, 6, 7, 8, 9, 10, 11, 12, 13, 14, 15, 16, 17, 18, 19, 20, 21, 22, 23, 24, 25, 26, 27, 28, 29, 30, 31, 32, 33, 34, 35, 36, 37, 38, 39, 40, 41, 42, 43, 44, 45, 46, 47, 48, 49, 50, 51, 52, 53, 54, 55, 56, 57, 58, 59, 60, 61, 62, 63, 64, 65, 66, 67, 68, 69, 70, 71, 72, 73, 74, 75, 76, 77, 78, 79, 80, 81, 82, 83, 84, 85, 86, 87, 88, 89, 90, 91, 92, 93, 94, 95, 96, 97, 98, 99]\n",
      "[0, 1, 2, 3, 4, 5, 6, 7, 8, 9, 10, 11, 12, 13, 14, 15, 16, 17, 18, 19, 20, 21, 22, 23, 24, 25, 26, 27, 28, 29, 30, 31, 32, 33, 34, 35, 36, 37, 38, 39, 40, 41, 42, 43, 44, 45, 46, 47, 48, 49, 50, 51, 52, 53, 54, 55, 56, 57, 58, 59, 60, 61, 62, 63, 64, 65, 66, 67, 68, 69, 70, 71, 72, 73, 74, 75, 76, 77, 78, 79, 80, 81, 82, 83, 84, 85, 86, 87, 88, 89, 90, 91, 92, 93, 94, 95, 96, 97, 98, 99]\n",
      "hi my name is ian\n",
      "hi my name is ian\n"
     ]
    }
   ],
   "source": [
    "#Common List Patterns\n",
    "basket = ['a','x','b','c','d','e','d']\n",
    "basket.sort()\n",
    "basket.reverse()\n",
    "# print(basket[::-1])\n",
    "# print(len(basket))\n",
    "\n",
    "print(range(1,100))\n",
    "print(list(range(1,100)))\n",
    "print(list(range(100)))\n",
    "\n",
    "sentence = ' '\n",
    "new_sentence = sentence.join(['hi', 'my', 'name', 'is', 'ian'])\n",
    "another_sentence = ' '.join(['hi', 'my', 'name', 'is', 'ian'])\n",
    "\n",
    "print(new_sentence)\n",
    "print(another_sentence)"
   ]
  },
  {
   "cell_type": "code",
   "execution_count": 58,
   "metadata": {},
   "outputs": [
    {
     "name": "stdout",
     "output_type": "stream",
     "text": [
      "['Amira', 'Carrie', 'Chu', 'Joy', 'Patty', 'Simon', 'Stanley']\n"
     ]
    }
   ],
   "source": [
    "#Exercise\n",
    "#fix this code so that it prints a sorted list of all of our friends (alphabetical).\n",
    "\n",
    "#Origional code given:\n",
    "friends = ['Simon', 'Patty', 'Joy', 'Carrie', 'Amira', 'Chu']\n",
    "new_friend = ['Stanley']\n",
    "# print(friends.sort() + new_friend)\n",
    "\n",
    "#Answer 1: Replace last two lines of code\n",
    "# friends.append('Stanley')\n",
    "# friends.sort()\n",
    "# print(friends)\n",
    "\n",
    "#Answer 2: Replace last line of code\n",
    "friends.extend(new_friend)\n",
    "print(sorted(friends))"
   ]
  },
  {
   "cell_type": "code",
   "execution_count": 69,
   "metadata": {},
   "outputs": [
    {
     "name": "stdout",
     "output_type": "stream",
     "text": [
      "1 2 3\n",
      "1\n",
      "2\n",
      "3\n",
      "[4, 5, 6, 7, 8]\n",
      "9\n"
     ]
    }
   ],
   "source": [
    "#List Unpacking\n",
    "#Unpacking is a way to assign multiple variables from a list in one line of code.\n",
    "# a,b,c = 1,2,3\n",
    "# a,b,c = [1,2,3,4,5,6,7,8,9]\n",
    "# a,b,c, *other = [1,2,3,4,5,6,7,8,9]\n",
    "a,b,c, *other, d = [1,2,3,4,5,6,7,8,9]\n",
    "\n",
    "print(a,b,c)\n",
    "print(a)\n",
    "print(b)\n",
    "print(c)\n",
    "print(other)\n",
    "print(d)"
   ]
  },
  {
   "cell_type": "markdown",
   "id": "c25f2195",
   "metadata": {},
   "source": [
    "<a id=\"tuples\"></a>\n",
    "___"
   ]
  },
  {
   "cell_type": "markdown",
   "id": "1925c731",
   "metadata": {},
   "source": [
    "### Tuples"
   ]
  },
  {
   "cell_type": "code",
   "execution_count": 5,
   "id": "c3e286de",
   "metadata": {},
   "outputs": [
    {
     "ename": "AttributeError",
     "evalue": "'tuple' object has no attribute 'reverse'",
     "output_type": "error",
     "traceback": [
      "\u001b[0;31m---------------------------------------------------------------------------\u001b[0m",
      "\u001b[0;31mAttributeError\u001b[0m                            Traceback (most recent call last)",
      "\u001b[0;32m/var/folders/91/blh77fzx03q_26vzlcw788pr0000gn/T/ipykernel_1407/3901516795.py\u001b[0m in \u001b[0;36m<module>\u001b[0;34m\u001b[0m\n\u001b[1;32m      9\u001b[0m \u001b[0;34m\u001b[0m\u001b[0m\n\u001b[1;32m     10\u001b[0m \u001b[0;31m#Tuples cannot be reversed.\u001b[0m\u001b[0;34m\u001b[0m\u001b[0;34m\u001b[0m\u001b[0m\n\u001b[0;32m---> 11\u001b[0;31m \u001b[0mmy_tuple\u001b[0m\u001b[0;34m.\u001b[0m\u001b[0mreverse\u001b[0m\u001b[0;34m(\u001b[0m\u001b[0;34m)\u001b[0m\u001b[0;34m\u001b[0m\u001b[0;34m\u001b[0m\u001b[0m\n\u001b[0m",
      "\u001b[0;31mAttributeError\u001b[0m: 'tuple' object has no attribute 'reverse'"
     ]
    }
   ],
   "source": [
    "#Tuples are like lists, but they are immutable (cannot be modified).\n",
    "my_tuple = (1,2,3,4,5)\n",
    "\n",
    "#Tuples cannot be reassigned.\n",
    "# my_tuple[1] = 'z'\n",
    "\n",
    "#Tuples cannot be sorted.\n",
    "# my_tuple.sort()\n",
    "\n",
    "#Tuples cannot be reversed.\n",
    "# my_tuple.reverse()"
   ]
  },
  {
   "cell_type": "code",
   "execution_count": 12,
   "id": "4f21e2d1",
   "metadata": {},
   "outputs": [
    {
     "name": "stdout",
     "output_type": "stream",
     "text": [
      "2\n",
      "True\n"
     ]
    }
   ],
   "source": [
    "#Tuples are ordered.\n",
    "my_tuple = (1,2,3,4,5)\n",
    "\n",
    "#You can access items by index.\n",
    "print(my_tuple[1])\n",
    "\n",
    "#You can search for items using in.\n",
    "print(5 in my_tuple)"
   ]
  },
  {
   "cell_type": "code",
   "execution_count": 13,
   "id": "2ac56f24",
   "metadata": {},
   "outputs": [
    {
     "name": "stdout",
     "output_type": "stream",
     "text": [
      "(2, 3)\n"
     ]
    }
   ],
   "source": [
    "#Tuples can be sliced.\n",
    "my_tuple = (1,2,3,4,5)\n",
    "new_tuple = my_tuple[1:3]\n",
    "\n",
    "print(new_tuple)"
   ]
  },
  {
   "cell_type": "code",
   "execution_count": 18,
   "id": "b7af3c02",
   "metadata": {},
   "outputs": [
    {
     "name": "stdout",
     "output_type": "stream",
     "text": [
      "1 2 3\n",
      "[4, 5]\n"
     ]
    }
   ],
   "source": [
    "#We can assign values to different variables.\n",
    "# x = my_tuple[0]\n",
    "# y = my_tuple[1]\n",
    "\n",
    "#We can unpack tuples.\n",
    "# x,y = my_tuple\n",
    "\n",
    "x,y,z, *other = my_tuple\n",
    "print(x,y,z)\n",
    "print(other)\n",
    "    "
   ]
  },
  {
   "cell_type": "code",
   "execution_count": 17,
   "id": "c5a26dd0",
   "metadata": {},
   "outputs": [
    {
     "name": "stdout",
     "output_type": "stream",
     "text": [
      "1\n",
      "0\n",
      "5\n"
     ]
    }
   ],
   "source": [
    "#Tuple Methods\n",
    "my_tuple = (1,2,3,4,5)\n",
    "\n",
    "#count() - returns the number of times an item appears in a tuple\n",
    "print(my_tuple.count(1))\n",
    "\n",
    "#index() - returns the index of the first item in a tuple that matches the item\n",
    "print(my_tuple.index(1))\n",
    "\n",
    "#len() - returns the length of a tuple\n",
    "print(len(my_tuple))\n"
   ]
  },
  {
   "cell_type": "markdown",
   "id": "3f5cc54f",
   "metadata": {},
   "source": [
    "<a id=\"Sets\"></a>\n",
    "___"
   ]
  },
  {
   "cell_type": "markdown",
   "id": "62aac073",
   "metadata": {},
   "source": [
    "### Sets"
   ]
  },
  {
   "cell_type": "code",
   "execution_count": 9,
   "id": "9beb9110",
   "metadata": {},
   "outputs": [
    {
     "name": "stdout",
     "output_type": "stream",
     "text": [
      "{1, 2, 3, 4, 5}\n",
      "{1, 2, 3, 4, 5, 100}\n",
      "6\n"
     ]
    },
    {
     "ename": "TypeError",
     "evalue": "'set' object is not subscriptable",
     "output_type": "error",
     "traceback": [
      "\u001b[0;31m---------------------------------------------------------------------------\u001b[0m",
      "\u001b[0;31mTypeError\u001b[0m                                 Traceback (most recent call last)",
      "\u001b[0;32m/var/folders/91/blh77fzx03q_26vzlcw788pr0000gn/T/ipykernel_2299/3971384128.py\u001b[0m in \u001b[0;36m<module>\u001b[0;34m\u001b[0m\n\u001b[1;32m     12\u001b[0m \u001b[0;34m\u001b[0m\u001b[0m\n\u001b[1;32m     13\u001b[0m \u001b[0;31m# Sets are unordered, so items cannot be accessed by index.\u001b[0m\u001b[0;34m\u001b[0m\u001b[0;34m\u001b[0m\u001b[0m\n\u001b[0;32m---> 14\u001b[0;31m \u001b[0mprint\u001b[0m\u001b[0;34m(\u001b[0m\u001b[0mmy_set\u001b[0m\u001b[0;34m[\u001b[0m\u001b[0;36m0\u001b[0m\u001b[0;34m]\u001b[0m\u001b[0;34m)\u001b[0m\u001b[0;34m\u001b[0m\u001b[0;34m\u001b[0m\u001b[0m\n\u001b[0m",
      "\u001b[0;31mTypeError\u001b[0m: 'set' object is not subscriptable"
     ]
    }
   ],
   "source": [
    "#Sets are unordered collections of unique items (no duplicates).\n",
    "my_set = {1,2,3,4,5,5}\n",
    "print(my_set)\n",
    "\n",
    "# Sets are mutable, so items can be added or removed.\n",
    "my_set.add(100)\n",
    "my_set.add(2)\n",
    "print(my_set)\n",
    "\n",
    "# Sets are unordered, so items cannot be accessed by index.\n",
    "print(my_set[0])"
   ]
  },
  {
   "cell_type": "code",
   "execution_count": 10,
   "id": "a9a2049d",
   "metadata": {},
   "outputs": [
    {
     "name": "stdout",
     "output_type": "stream",
     "text": [
      "6\n",
      "[1, 2, 3, 4, 5, 100]\n"
     ]
    }
   ],
   "source": [
    "#len() - returns the length of a set\n",
    "print(len(my_set))\n",
    "\n",
    "#list() - returns a list of items in a set\n",
    "print(list(my_set))"
   ]
  },
  {
   "cell_type": "code",
   "execution_count": 11,
   "id": "f63f05bb",
   "metadata": {},
   "outputs": [
    {
     "name": "stdout",
     "output_type": "stream",
     "text": [
      "{1, 2, 3, 4, 5}\n",
      "set()\n"
     ]
    }
   ],
   "source": [
    "my_set = {1,2,3,4,5,5}\n",
    "new_set = my_set.copy()\n",
    "my_set.clear()\n",
    "print(new_set)\n",
    "print(my_set)"
   ]
  },
  {
   "cell_type": "code",
   "execution_count": 4,
   "id": "91646de9",
   "metadata": {},
   "outputs": [
    {
     "name": "stdout",
     "output_type": "stream",
     "text": [
      "{1, 2, 3, 4, 5}\n"
     ]
    }
   ],
   "source": [
    "#Exercise\n",
    "#Using the set below, create a new set that contains only the unique values from the original set.\n",
    "my_list = [1,2,3,4,5,5]\n",
    "\n",
    "print(set(my_list))"
   ]
  },
  {
   "cell_type": "code",
   "execution_count": 21,
   "id": "862e7713",
   "metadata": {},
   "outputs": [
    {
     "name": "stdout",
     "output_type": "stream",
     "text": [
      "{1, 2, 3}\n",
      "{2, 3, 4, 5}\n",
      "{2, 3}\n",
      "set()\n",
      "True\n",
      "False\n",
      "False\n",
      "{2, 3, 4, 5, 6, 7, 8, 9, 10}\n",
      "{2, 3, 4, 5, 6, 7, 8, 9, 10}\n"
     ]
    }
   ],
   "source": [
    "#Set Methods\n",
    "my_set = {1,2,3,4,5,5}\n",
    "your_set = {4,5,6,7,8,9,10}\n",
    "\n",
    "#difference() - returns a set of items that are in the first set but not in the second\n",
    "print(my_set.difference(your_set))\n",
    "\n",
    "#discard() - removes an item from a set\n",
    "my_set.discard(1)\n",
    "print(my_set)\n",
    "\n",
    "#difference_update() - removes all items in the second set from the first set\n",
    "my_set.difference_update(your_set)\n",
    "print(my_set)\n",
    "\n",
    "#intersection() - returns a set of items that are in both sets\n",
    "print(my_set.intersection(your_set))\n",
    "\n",
    "#isdisjoint() - returns True if the two sets have a null intersection\n",
    "print(my_set.isdisjoint(your_set))\n",
    "\n",
    "#issubset() - returns True if the first set is a subset of the second\n",
    "print(my_set.issubset(your_set))\n",
    "\n",
    "#issuperset() - returns True if the first set is a superset of the second\n",
    "print(my_set.issuperset(your_set))\n",
    "\n",
    "#union() - returns a set of items that are in either set\n",
    "print(my_set.union(your_set))\n",
    "\n",
    "#another way to do the same thing\n",
    "print(my_set | your_set)"
   ]
  },
  {
   "cell_type": "code",
   "execution_count": 22,
   "id": "01040d32",
   "metadata": {},
   "outputs": [
    {
     "name": "stdout",
     "output_type": "stream",
     "text": [
      "{'Tammy'}\n"
     ]
    }
   ],
   "source": [
    "#Exercise\n",
    "# You are working for the school Principal. We have a database of school students:\n",
    "school = {'Bobby','Tammy','Jammy','Sally','Danny'}\n",
    "\n",
    "#during class, the teachers take attendance and compile it into a list. \n",
    "attendance_list = ['Jammy', 'Bobby', 'Danny', 'Sally']\n",
    "\n",
    "#using what you learned about sets, create a piece of code that the school principal can use to immediately find out who missed class so they can call the parents.\n",
    "\n",
    "print(school.difference(attendance_list))"
   ]
  },
  {
   "cell_type": "markdown",
   "metadata": {},
   "source": [
    "<a id=\"Dictionaries\"></a>\n",
    "___"
   ]
  },
  {
   "cell_type": "markdown",
   "metadata": {},
   "source": [
    "### Dictionaries"
   ]
  },
  {
   "cell_type": "code",
   "execution_count": 71,
   "metadata": {},
   "outputs": [
    {
     "name": "stdout",
     "output_type": "stream",
     "text": [
      "value1\n"
     ]
    }
   ],
   "source": [
    "#Dictionaries are a collection of key-value pairs.\n",
    "dictionary = {\n",
    "    'key1': 'value1',\n",
    "    'key2': 'value2',\n",
    "    'key3': 'value3'\n",
    "}\n",
    "\n",
    "print(dictionary['key1'])"
   ]
  },
  {
   "cell_type": "code",
   "execution_count": 90,
   "metadata": {},
   "outputs": [
    {
     "name": "stdout",
     "output_type": "stream",
     "text": [
      "4\n"
     ]
    }
   ],
   "source": [
    "#Dictionaries can be used to store any type of data (strings, numbers, lists, etc)\n",
    "dictionary = {\n",
    "    'key1': 'value1',\n",
    "    'key2': True,\n",
    "    'key3': [1,2,3,4,5]\n",
    "}\n",
    "\n",
    "print(dictionary['key3'][3])"
   ]
  },
  {
   "cell_type": "code",
   "execution_count": 79,
   "metadata": {},
   "outputs": [
    {
     "name": "stdout",
     "output_type": "stream",
     "text": [
      "Patty\n"
     ]
    }
   ],
   "source": [
    "#Dictionaries can be stored in lists\n",
    "my_list = [\n",
    "    {\n",
    "        'name': 'Simon',\n",
    "        'age': 28\n",
    "    },\n",
    "    {\n",
    "        'name': 'Patty',\n",
    "        'age': 29\n",
    "    },\n",
    "    {\n",
    "        'name': 'Joy',\n",
    "        'age': 30\n",
    "    }\n",
    "]\n",
    "\n",
    "print(my_list[1]['name'])"
   ]
  },
  {
   "cell_type": "code",
   "execution_count": 84,
   "metadata": {},
   "outputs": [
    {
     "name": "stdout",
     "output_type": "stream",
     "text": [
      "value1\n"
     ]
    }
   ],
   "source": [
    "#Dictionary keys are:\n",
    "    # Immutable (cannot be changed)\n",
    "    # Unique (no two keys can be the same)\n",
    "    # Unordered (no order)\n",
    "\n",
    "dictionary = {\n",
    "    123: 'value1',\n",
    "    True: 'value2',\n",
    "    'hello': 'value3'\n",
    "}\n",
    "\n",
    "print(dictionary[123])"
   ]
  },
  {
   "cell_type": "code",
   "execution_count": 87,
   "metadata": {},
   "outputs": [
    {
     "name": "stdout",
     "output_type": "stream",
     "text": [
      "None\n",
      "Simon\n"
     ]
    }
   ],
   "source": [
    "#Dictionary Methods\n",
    "user = {\n",
    "    'name': 'Simon',\n",
    "    'age': 28\n",
    "}\n",
    "\n",
    "#None is a special value that can be used to represent the absence of a value\n",
    "print(user.get('sex'))\n",
    "\n",
    "#Default value\n",
    "print(user.get('name', 'Not Found'))"
   ]
  },
  {
   "cell_type": "code",
   "execution_count": 89,
   "metadata": {},
   "outputs": [
    {
     "name": "stdout",
     "output_type": "stream",
     "text": [
      "{'name': 'John'}\n"
     ]
    }
   ],
   "source": [
    "#Another way to create a dictionary using built in dictionary function\n",
    "user2 = dict(name='John')\n",
    "print(user2)"
   ]
  },
  {
   "cell_type": "code",
   "execution_count": 101,
   "metadata": {},
   "outputs": [
    {
     "name": "stdout",
     "output_type": "stream",
     "text": [
      "True\n",
      "True\n",
      "False\n",
      "True\n",
      "True\n",
      "False\n",
      "True\n",
      "True\n",
      "False\n",
      "dict_items([('name', 'Simon'), ('age', 28)])\n"
     ]
    }
   ],
   "source": [
    "#Another way to search dictionaries using the keyword in\n",
    "user = {\n",
    "    'name': 'Simon',\n",
    "    'age': 28\n",
    "}\n",
    "\n",
    "#Searching for both keys and values\n",
    "print('name' in user)\n",
    "print('age' in user)\n",
    "print('30' in user)\n",
    "\n",
    "#Searching for values\n",
    "print('Simon' in user.values())\n",
    "print(28 in user.values())\n",
    "print('age' in user.values())\n",
    "\n",
    "#Searching for keys\n",
    "print('name' in user.keys())\n",
    "print('age' in user.keys())\n",
    "print('sex' in user.keys())\n",
    "\n",
    "#Searching for items\n",
    "print(user.items())"
   ]
  },
  {
   "cell_type": "code",
   "execution_count": 121,
   "metadata": {},
   "outputs": [
    {
     "name": "stdout",
     "output_type": "stream",
     "text": [
      "{'name': 'John', 'age': 28}\n"
     ]
    }
   ],
   "source": [
    "#Other useful dictionary methods\n",
    "user = {\n",
    "    'name': 'Simon',\n",
    "    'age': 28\n",
    "}\n",
    "\n",
    "#Clear dictionary\n",
    "# print(user.clear())\n",
    "\n",
    "#Clear dictionary\n",
    "# user.clear()\n",
    "# print(user)\n",
    "\n",
    "#Copy dictionary\n",
    "# user.copy()\n",
    "# print(user)\n",
    "\n",
    "#Copy dictionary\n",
    "# user2 = user.copy()\n",
    "# print(user2)\n",
    "\n",
    "#Pop returns the value of the key and removes it from the dictionary\n",
    "# print(user.pop('name'))\n",
    "# print(user)\n",
    "\n",
    "#popitem returns and removes a random item from the dictionary\n",
    "# print(user.popitem())\n",
    "# print(user)\n",
    "\n",
    "#update adds new key-value pairs to the dictionary\n",
    "user.update({'name': 'John'})\n",
    "print(user)"
   ]
  },
  {
   "cell_type": "code",
   "execution_count": 122,
   "metadata": {},
   "outputs": [
    {
     "name": "stdout",
     "output_type": "stream",
     "text": [
      "{'age': 31, 'username': 'sadgurl', 'weapons': None, 'is_active': True, 'clan': 'blue baracudas'}\n",
      "{'age': 31, 'username': 'sadgurl', 'weapons': 'bazooka', 'is_active': True, 'clan': 'blue baracudas'}\n",
      "{'age': 31, 'username': 'sadgurl', 'weapons': 'bazooka', 'is_active': True, 'clan': 'blue baracudas', 'is_banned': False}\n",
      "{'age': 31, 'username': 'sadgurl', 'weapons': 'bazooka', 'is_active': True, 'clan': 'blue baracudas', 'is_banned': True}\n",
      "{'age': 32, 'username': 'ocsadgurl', 'weapons': 'bazooka', 'is_active': True, 'clan': 'blue baracudas', 'is_banned': True}\n"
     ]
    }
   ],
   "source": [
    "#Example\n",
    "#1 Create a user profile for your new game. This user profile will be stored in a dictionary with keys: 'age', 'username', 'weapons', 'is_active' and 'clan'\n",
    "user = {\n",
    "  'age': 31,\n",
    "  'username': 'sadgurl',\n",
    "  'weapons': None, \n",
    "  'is_active': True,\n",
    "  'clan': 'blue baracudas'\n",
    "}\n",
    "#2 iterate and print all the keys in the above user.\n",
    "print(user)\n",
    "\n",
    "#3 Add a new weapon to your user\n",
    "user.update({'weapons': 'bazooka'})\n",
    "print(user)\n",
    "\n",
    "#4 Add a new key to include 'is_banned'. Set it to false\n",
    "user.update({'is_banned': False})\n",
    "print(user)\n",
    "\n",
    "#5 Ban the user by setting the previous key to True\n",
    "user.update({'is_banned': True})\n",
    "print(user)\n",
    "\n",
    "#6 create a new user2 my copying the previous user and update the age value and username value. \n",
    "user2 = user.copy()\n",
    "user2.update({'age': 32})\n",
    "user2.update({'username': 'ocsadgurl'})\n",
    "print(user2)"
   ]
  },
  {
   "cell_type": "code",
   "execution_count": null,
   "metadata": {},
   "outputs": [],
   "source": [
    "#Solutions:\n",
    "#1 Create a user profile for your new game. This user profile will be stored in a dictionary with keys: 'age', 'username', 'weapons', 'is_active' and 'clan'\n",
    "# user = {\n",
    "#     'age': 22,\n",
    "#     'username': 'Shogun',\n",
    "#     'weapons': ['katana', 'shuriken'],\n",
    "#     'is_active': True,\n",
    "#     'clan': 'Japan'\n",
    "# }\n",
    "\n",
    "#2 iterate and print all the keys in the above user.\n",
    "# print(user.keys())\n",
    "\n",
    "#3 Add a new weapon to your user\n",
    "# user['weapons'].append('shield')\n",
    "# print(user)\n",
    "\n",
    "#4 Add a new key to include 'is_banned'. Set it to false\n",
    "# user.update({'is_banned': False}) \n",
    "# print(user)\n",
    "\n",
    "#5 Ban the user by setting the previous key to True\n",
    "# user['is_banned'] = True\n",
    "# print(user)\n",
    "\n",
    "#6 create a new user2 my copying the previous user and update the age value and username value. \n",
    "# user2 = user.copy()\n",
    "# user2.update({'age': 100, 'username': 'Timbo'})\n",
    "# print(user2)"
   ]
  },
  {
   "cell_type": "markdown",
   "metadata": {},
   "source": [
    "<a id=\"None\"></a>\n",
    "___"
   ]
  },
  {
   "cell_type": "markdown",
   "metadata": {},
   "source": [
    "### None"
   ]
  },
  {
   "cell_type": "code",
   "execution_count": 70,
   "metadata": {},
   "outputs": [
    {
     "name": "stdout",
     "output_type": "stream",
     "text": [
      "None\n"
     ]
    }
   ],
   "source": [
    "#None is a special value that represents the absence of a value\n",
    "weapons = None\n",
    "print(weapons)"
   ]
  },
  {
   "cell_type": "markdown",
   "metadata": {},
   "source": [
    "<a id=\"operator-precedence\"></a>\n",
    "___"
   ]
  },
  {
   "cell_type": "markdown",
   "metadata": {},
   "source": [
    "### Operator Precedence"
   ]
  },
  {
   "cell_type": "code",
   "execution_count": 22,
   "metadata": {},
   "outputs": [
    {
     "name": "stdout",
     "output_type": "stream",
     "text": [
      "8\n",
      "21\n"
     ]
    }
   ],
   "source": [
    "#Order of Operations - BODMAS\n",
    "# ()\n",
    "# **\n",
    "# / *\n",
    "# + -\n",
    "\n",
    "print(20 - 3 * 4)\n",
    "\n",
    "print((20 - 3) + 2 ** 2)"
   ]
  },
  {
   "cell_type": "code",
   "execution_count": 42,
   "metadata": {},
   "outputs": [
    {
     "name": "stdout",
     "output_type": "stream",
     "text": [
      "45.0\n",
      "45.0\n",
      "45.0\n",
      "25.0\n",
      "25\n"
     ]
    }
   ],
   "source": [
    "#Exercise\n",
    "# Guess the output of each answer before you click RUN\n",
    "# Try to write down your answer before and see how you do... keep it mind I made it a little tricky for you :)\n",
    "\n",
    "print((5 + 4) * 10 / 2)\n",
    "\n",
    "print(((5 + 4) * 10) / 2)\n",
    "\n",
    "print((5 + 4) * (10 / 2))\n",
    "\n",
    "print(5 + (4 * 10) / 2)\n",
    "\n",
    "print(5 + 4 * 10 // 2)"
   ]
  },
  {
   "cell_type": "markdown",
   "metadata": {},
   "source": [
    "<a id=\"variables\"></a>\n",
    "___"
   ]
  },
  {
   "cell_type": "markdown",
   "metadata": {},
   "source": [
    "### Variables"
   ]
  },
  {
   "cell_type": "code",
   "execution_count": 23,
   "metadata": {},
   "outputs": [
    {
     "name": "stdout",
     "output_type": "stream",
     "text": [
      "190\n"
     ]
    }
   ],
   "source": [
    "#Variables are used to store information\n",
    "#Assigning a name to a value is called binding\n",
    "iq = 190\n",
    "print(iq)"
   ]
  },
  {
   "cell_type": "markdown",
   "metadata": {},
   "source": [
    "#### Format"
   ]
  },
  {
   "cell_type": "code",
   "execution_count": 24,
   "metadata": {},
   "outputs": [
    {
     "name": "stdout",
     "output_type": "stream",
     "text": [
      "190\n"
     ]
    }
   ],
   "source": [
    "#snake_case\n",
    "user_iq = 190\n",
    "print(user_iq)"
   ]
  },
  {
   "cell_type": "code",
   "execution_count": 27,
   "metadata": {},
   "outputs": [
    {
     "ename": "SyntaxError",
     "evalue": "invalid syntax (2103512812.py, line 4)",
     "output_type": "error",
     "traceback": [
      "\u001b[0;36m  File \u001b[0;32m\"/var/folders/91/blh77fzx03q_26vzlcw788pr0000gn/T/ipykernel_54086/2103512812.py\"\u001b[0;36m, line \u001b[0;32m4\u001b[0m\n\u001b[0;31m    2user_iq = 190\u001b[0m\n\u001b[0m     ^\u001b[0m\n\u001b[0;31mSyntaxError\u001b[0m\u001b[0;31m:\u001b[0m invalid syntax\n"
     ]
    }
   ],
   "source": [
    "#start with lower case or underscore\n",
    "_user_iq = 190\n",
    "user_iq = 190\n",
    "2user_iq = 190"
   ]
  },
  {
   "cell_type": "code",
   "execution_count": 28,
   "metadata": {},
   "outputs": [],
   "source": [
    "#letters, numbers, underscores\n",
    "user2_iq = 190"
   ]
  },
  {
   "cell_type": "code",
   "execution_count": 26,
   "metadata": {},
   "outputs": [
    {
     "ename": "NameError",
     "evalue": "name 'USER_IQ' is not defined",
     "output_type": "error",
     "traceback": [
      "\u001b[0;31m---------------------------------------------------------------------------\u001b[0m",
      "\u001b[0;31mNameError\u001b[0m                                 Traceback (most recent call last)",
      "\u001b[0;32m/var/folders/91/blh77fzx03q_26vzlcw788pr0000gn/T/ipykernel_54086/1624772143.py\u001b[0m in \u001b[0;36m<module>\u001b[0;34m\u001b[0m\n\u001b[1;32m      1\u001b[0m \u001b[0;31m#case sensitive\u001b[0m\u001b[0;34m\u001b[0m\u001b[0;34m\u001b[0m\u001b[0m\n\u001b[1;32m      2\u001b[0m \u001b[0muser_iq\u001b[0m \u001b[0;34m=\u001b[0m \u001b[0;36m190\u001b[0m\u001b[0;34m\u001b[0m\u001b[0;34m\u001b[0m\u001b[0m\n\u001b[0;32m----> 3\u001b[0;31m \u001b[0mprint\u001b[0m\u001b[0;34m(\u001b[0m\u001b[0mUSER_IQ\u001b[0m\u001b[0;34m)\u001b[0m\u001b[0;34m\u001b[0m\u001b[0;34m\u001b[0m\u001b[0m\n\u001b[0m",
      "\u001b[0;31mNameError\u001b[0m: name 'USER_IQ' is not defined"
     ]
    }
   ],
   "source": [
    "#case sensitive\n",
    "user_iq = 190\n",
    "print(USER_IQ)"
   ]
  },
  {
   "cell_type": "code",
   "execution_count": 25,
   "metadata": {},
   "outputs": [
    {
     "ename": "TypeError",
     "evalue": "'int' object is not callable",
     "output_type": "error",
     "traceback": [
      "\u001b[0;31m---------------------------------------------------------------------------\u001b[0m",
      "\u001b[0;31mTypeError\u001b[0m                                 Traceback (most recent call last)",
      "\u001b[0;32m/var/folders/91/blh77fzx03q_26vzlcw788pr0000gn/T/ipykernel_54086/1706924942.py\u001b[0m in \u001b[0;36m<module>\u001b[0;34m\u001b[0m\n\u001b[1;32m      1\u001b[0m \u001b[0;31m#don't overwrite keywords\u001b[0m\u001b[0;34m\u001b[0m\u001b[0;34m\u001b[0m\u001b[0m\n\u001b[1;32m      2\u001b[0m \u001b[0mprint\u001b[0m \u001b[0;34m=\u001b[0m \u001b[0;36m190\u001b[0m\u001b[0;34m\u001b[0m\u001b[0;34m\u001b[0m\u001b[0m\n\u001b[0;32m----> 3\u001b[0;31m \u001b[0mprint\u001b[0m\u001b[0;34m(\u001b[0m\u001b[0mprint\u001b[0m\u001b[0;34m)\u001b[0m\u001b[0;34m\u001b[0m\u001b[0;34m\u001b[0m\u001b[0m\n\u001b[0m",
      "\u001b[0;31mTypeError\u001b[0m: 'int' object is not callable"
     ]
    }
   ],
   "source": [
    "#don't overwrite keywords\n",
    "print = 190\n",
    "print(print)"
   ]
  },
  {
   "cell_type": "code",
   "execution_count": 29,
   "metadata": {},
   "outputs": [
    {
     "ename": "TypeError",
     "evalue": "'int' object is not callable",
     "output_type": "error",
     "traceback": [
      "\u001b[0;31m---------------------------------------------------------------------------\u001b[0m",
      "\u001b[0;31mTypeError\u001b[0m                                 Traceback (most recent call last)",
      "\u001b[0;32m/var/folders/91/blh77fzx03q_26vzlcw788pr0000gn/T/ipykernel_54086/3010625163.py\u001b[0m in \u001b[0;36m<module>\u001b[0;34m\u001b[0m\n\u001b[1;32m      1\u001b[0m \u001b[0;31m#comma seperated variable assignment\u001b[0m\u001b[0;34m\u001b[0m\u001b[0;34m\u001b[0m\u001b[0m\n\u001b[1;32m      2\u001b[0m \u001b[0ma\u001b[0m\u001b[0;34m,\u001b[0m\u001b[0mb\u001b[0m\u001b[0;34m,\u001b[0m\u001b[0mc\u001b[0m \u001b[0;34m=\u001b[0m \u001b[0;36m1\u001b[0m\u001b[0;34m,\u001b[0m\u001b[0;36m2\u001b[0m\u001b[0;34m,\u001b[0m\u001b[0;36m3\u001b[0m\u001b[0;34m\u001b[0m\u001b[0;34m\u001b[0m\u001b[0m\n\u001b[0;32m----> 3\u001b[0;31m \u001b[0mprint\u001b[0m\u001b[0;34m(\u001b[0m\u001b[0ma\u001b[0m\u001b[0;34m)\u001b[0m\u001b[0;34m\u001b[0m\u001b[0;34m\u001b[0m\u001b[0m\n\u001b[0m\u001b[1;32m      4\u001b[0m \u001b[0mprint\u001b[0m\u001b[0;34m(\u001b[0m\u001b[0mb\u001b[0m\u001b[0;34m)\u001b[0m\u001b[0;34m\u001b[0m\u001b[0;34m\u001b[0m\u001b[0m\n\u001b[1;32m      5\u001b[0m \u001b[0mprint\u001b[0m\u001b[0;34m(\u001b[0m\u001b[0mc\u001b[0m\u001b[0;34m)\u001b[0m\u001b[0;34m\u001b[0m\u001b[0;34m\u001b[0m\u001b[0m\n",
      "\u001b[0;31mTypeError\u001b[0m: 'int' object is not callable"
     ]
    }
   ],
   "source": [
    "#comma seperated variable assignment\n",
    "a,b,c = 1,2,3\n",
    "print(a)\n",
    "print(b)\n",
    "print(c)"
   ]
  },
  {
   "cell_type": "markdown",
   "metadata": {},
   "source": [
    "<a id=\"Expressions vs Statements\"></a>\n",
    "___"
   ]
  },
  {
   "cell_type": "markdown",
   "metadata": {},
   "source": [
    "### Expressions vs Statements"
   ]
  },
  {
   "cell_type": "code",
   "execution_count": 2,
   "metadata": {},
   "outputs": [],
   "source": [
    "iq = 190\n",
    "user_age = iq / 5"
   ]
  },
  {
   "cell_type": "code",
   "execution_count": 6,
   "metadata": {},
   "outputs": [],
   "source": [
    "#Expression - piece of code that produces a value --> iq / 5\n",
    "\n",
    "#Statement - entire line of code that performs some type of action --> user_age = iq / 5 or iq = 190"
   ]
  },
  {
   "cell_type": "markdown",
   "metadata": {},
   "source": [
    "<a id=\"Augmented Assignment Operator\"></a>\n",
    "___"
   ]
  },
  {
   "cell_type": "markdown",
   "metadata": {},
   "source": [
    "### Augmented Assignment Operator"
   ]
  },
  {
   "cell_type": "code",
   "execution_count": 5,
   "metadata": {},
   "outputs": [
    {
     "name": "stdout",
     "output_type": "stream",
     "text": [
      "7\n",
      "7\n"
     ]
    }
   ],
   "source": [
    "#Instead of using the code\n",
    "some_value = 5\n",
    "some_value = some_value + 2\n",
    "print(some_value)\n",
    "\n",
    "#We can write\n",
    "some_value = 5\n",
    "some_value += 2\n",
    "print(some_value)\n",
    "\n",
    "#This also works for other mathematical operators (+ - * /)"
   ]
  },
  {
   "cell_type": "code",
   "execution_count": 44,
   "metadata": {},
   "outputs": [
    {
     "name": "stdout",
     "output_type": "stream",
     "text": [
      "6\n"
     ]
    }
   ],
   "source": [
    "#Exercise\n",
    "counter = 0\n",
    "\n",
    "counter += 1\n",
    "counter += 1\n",
    "counter += 1\n",
    "counter += 1\n",
    "counter -= 1\n",
    "counter *=2\n",
    "\n",
    "#Before you click RUN, guess what the counter variable holds in memory!\n",
    "print(counter)"
   ]
  },
  {
   "cell_type": "markdown",
   "metadata": {},
   "source": [
    "<a id=\"Built in Functions\"></a>\n",
    "___"
   ]
  },
  {
   "cell_type": "markdown",
   "metadata": {},
   "source": [
    "### Built in Functions"
   ]
  },
  {
   "cell_type": "code",
   "execution_count": 52,
   "metadata": {},
   "outputs": [
    {
     "name": "stdout",
     "output_type": "stream",
     "text": [
      "12\n"
     ]
    }
   ],
   "source": [
    "#The length function returns the length of a string\n",
    "print(len(\"Helllllooooo\"))"
   ]
  },
  {
   "cell_type": "code",
   "execution_count": 59,
   "metadata": {},
   "outputs": [
    {
     "name": "stdout",
     "output_type": "stream",
     "text": [
      "TO BE OR NOT TO BE\n",
      "To be or not to be\n",
      "3\n",
      "to me or not to me\n",
      "to be or not to be\n"
     ]
    }
   ],
   "source": [
    "#String Methods\n",
    "quote = \"to be or not to be\"\n",
    "\n",
    "print(quote.upper())\n",
    "\n",
    "print(quote.capitalize())\n",
    "\n",
    "print(quote.find(\"be\"))\n",
    "\n",
    "print(quote.replace(\"be\",\"me\"))\n",
    "\n",
    "print(quote)"
   ]
  },
  {
   "cell_type": "markdown",
   "metadata": {},
   "source": [
    "<a id=\"Building a Program\"></a>\n",
    "___"
   ]
  },
  {
   "cell_type": "markdown",
   "metadata": {},
   "source": [
    "#### Building a Program"
   ]
  },
  {
   "cell_type": "code",
   "execution_count": 66,
   "metadata": {},
   "outputs": [
    {
     "name": "stdout",
     "output_type": "stream",
     "text": [
      "Your age is: 31\n"
     ]
    }
   ],
   "source": [
    "#Build a program to guess someones age\n",
    "birth_year = input(\"What year were you born? \")\n",
    "age = 2021 - int(birth_year)\n",
    "\n",
    "print(f\"Your age is: {age}\")"
   ]
  },
  {
   "cell_type": "code",
   "execution_count": 73,
   "metadata": {},
   "outputs": [
    {
     "name": "stdout",
     "output_type": "stream",
     "text": [
      "username, your password, ********, is 8 letters long\n"
     ]
    }
   ],
   "source": [
    "#Build a password checker\n",
    "username = input(\"username: \")\n",
    "password = input(\"password: \")\n",
    "\n",
    "password_length = len(password)\n",
    "hidden_password = \"*\" * password_length\n",
    "\n",
    "print(f\"{username}, your password, {hidden_password}, is {password_length} letters long\")\n"
   ]
  },
  {
   "cell_type": "markdown",
   "id": "aa07e874",
   "metadata": {},
   "source": [
    "<a id=\"Conditional Logic\"></a>\n",
    "___"
   ]
  },
  {
   "cell_type": "markdown",
   "id": "3681026a",
   "metadata": {},
   "source": [
    "### Conditional Logic"
   ]
  },
  {
   "cell_type": "code",
   "execution_count": 2,
   "id": "019bee02",
   "metadata": {},
   "outputs": [
    {
     "name": "stdout",
     "output_type": "stream",
     "text": [
      "You can drive\n"
     ]
    }
   ],
   "source": [
    "#Conditional Logic - if, elif, else\n",
    "\n",
    "is_old = True\n",
    "is_licenced = True\n",
    "\n",
    "if is_old and is_licenced:\n",
    "    print(\"You can drive\")\n",
    "else:\n",
    "    print(\"You can't drive\")"
   ]
  },
  {
   "cell_type": "code",
   "execution_count": 4,
   "id": "019bee02",
   "metadata": {},
   "outputs": [
    {
     "name": "stdout",
     "output_type": "stream",
     "text": [
      "You are not old enough, but you have your license.\n"
     ]
    }
   ],
   "source": [
    "#Conditional Logic with user input\n",
    "\n",
    "age = input(\"How old are you? \")\n",
    "license = input(\"Do you have a license? \")\n",
    "\n",
    "if int(age) >= 16 and license == \"yes\":\n",
    "    print(\"You can drive!\")\n",
    "elif int(age) >= 16 and license == \"no\":\n",
    "    print(\"You are old enough, but need your license.\")\n",
    "elif int(age) < 16 and license == \"yes\":\n",
    "    print(\"You are not old enough, but you have your license.\")\n",
    "else:\n",
    "    print(\"You are not old enough, and you don't have your license.\")"
   ]
  },
  {
   "cell_type": "markdown",
   "id": "919763b2",
   "metadata": {},
   "source": [
    "<a id=\"Truthy and Falsey\"></a>\n",
    "___"
   ]
  },
  {
   "cell_type": "markdown",
   "id": "fac860e4",
   "metadata": {},
   "source": [
    "### Truthy and Falsey"
   ]
  },
  {
   "cell_type": "code",
   "execution_count": 5,
   "id": "76d628f8",
   "metadata": {},
   "outputs": [
    {
     "name": "stdout",
     "output_type": "stream",
     "text": [
      "You can drive\n"
     ]
    }
   ],
   "source": [
    "#Truthy and Falsey\n",
    "\n",
    "is_old = 'hello'\n",
    "#same as is_old = bool('hello')\n",
    "\n",
    "is_licenced = 5\n",
    "#same as is_licenced = bool(5)\n",
    "\n",
    "if is_old and is_licenced:\n",
    "    print(\"You can drive\")\n",
    "else:\n",
    "    print(\"You can't drive\")"
   ]
  },
  {
   "cell_type": "code",
   "execution_count": 7,
   "id": "d36fe5ba",
   "metadata": {},
   "outputs": [
    {
     "name": "stdout",
     "output_type": "stream",
     "text": [
      "False\n",
      "False\n",
      "False\n",
      "False\n",
      "True\n",
      "True\n"
     ]
    }
   ],
   "source": [
    "#Falsey values: False, None, 0, \"\", [], {}\n",
    "print(bool(''))\n",
    "print(bool(0))\n",
    "print(bool([]))\n",
    "print(bool({}))\n",
    "\n",
    "#Truthy values: All other values\n",
    "print(bool(5))\n",
    "print(bool('hello'))"
   ]
  },
  {
   "cell_type": "markdown",
   "id": "4fe9cb07",
   "metadata": {},
   "source": [
    "<a id=\"Ternary Operator\"></a>\n",
    "___"
   ]
  },
  {
   "cell_type": "markdown",
   "id": "45b01dcc",
   "metadata": {},
   "source": [
    "### Ternary Operator"
   ]
  },
  {
   "cell_type": "code",
   "execution_count": 8,
   "id": "29e8d8dd",
   "metadata": {},
   "outputs": [
    {
     "name": "stdout",
     "output_type": "stream",
     "text": [
      "message allowed\n"
     ]
    }
   ],
   "source": [
    "#Ternery Operator - conditional expression\n",
    "#syntax: confition_if_true if condition else condition_if_false\n",
    "is_friend = True\n",
    "can_message = \"message allowed\" if is_friend else \"not allowed\"\n",
    "\n",
    "print(can_message)"
   ]
  },
  {
   "cell_type": "markdown",
   "id": "71d4a1e6",
   "metadata": {},
   "source": [
    "<a id=\"Short Circuiting\"></a>\n",
    "___"
   ]
  },
  {
   "cell_type": "markdown",
   "id": "4abb32cc",
   "metadata": {},
   "source": [
    "### Short Circuiting"
   ]
  },
  {
   "cell_type": "code",
   "execution_count": 1,
   "id": "254dae1d",
   "metadata": {},
   "outputs": [
    {
     "name": "stdout",
     "output_type": "stream",
     "text": [
      "You can message\n"
     ]
    }
   ],
   "source": [
    "#Short Circuiting\n",
    "is_friend = True\n",
    "is_user = True\n",
    "\n",
    "if is_friend or is_user:\n",
    "    print(\"You can message\")\n",
    "else:\n",
    "    print(\"You can't message\")"
   ]
  },
  {
   "cell_type": "markdown",
   "id": "b617e3e5",
   "metadata": {},
   "source": [
    "<a id=\"Logical Operators\"></a>\n",
    "___"
   ]
  },
  {
   "cell_type": "markdown",
   "id": "c2bf3ea3",
   "metadata": {},
   "source": [
    "### Logical Operators"
   ]
  },
  {
   "cell_type": "code",
   "execution_count": 5,
   "id": "2365d45e",
   "metadata": {},
   "outputs": [
    {
     "name": "stdout",
     "output_type": "stream",
     "text": [
      "False\n",
      "True\n",
      "False\n",
      "True\n"
     ]
    }
   ],
   "source": [
    "#Logical Operators\n",
    "\n",
    "print(4 > 5)\n",
    "print(4 < 5)\n",
    "print(4 == 5)\n",
    "print(4 != 5)"
   ]
  },
  {
   "cell_type": "code",
   "execution_count": 9,
   "id": "b48574d7",
   "metadata": {},
   "outputs": [
    {
     "name": "stdout",
     "output_type": "stream",
     "text": [
      "False\n",
      "True\n",
      "False\n",
      "True\n"
     ]
    }
   ],
   "source": [
    "#Why is 'a' > 'b' False?\n",
    "#python uses ASCII values to compare strings (a = 97, b = 98)\n",
    "\n",
    "print('a' > 'b')\n",
    "print('a' < 'b')\n",
    "print('a' == 'b')\n",
    "print('a' != 'b')"
   ]
  },
  {
   "cell_type": "code",
   "execution_count": 8,
   "id": "9394c5fc",
   "metadata": {},
   "outputs": [
    {
     "name": "stdout",
     "output_type": "stream",
     "text": [
      "True\n",
      "False\n",
      "False\n",
      "True\n"
     ]
    }
   ],
   "source": [
    "#Why is 'a' < 'A' True?\n",
    "#python uses ASCII values to compare strings (a = 97, A = 65)\n",
    "print('a' > 'A')\n",
    "print('a' < 'A')\n",
    "print('a' == 'A')\n",
    "print('a' != 'A')"
   ]
  },
  {
   "cell_type": "code",
   "execution_count": 15,
   "id": "15bf4dae",
   "metadata": {},
   "outputs": [
    {
     "name": "stdout",
     "output_type": "stream",
     "text": [
      "True\n",
      "False\n",
      "True\n",
      "True\n"
     ]
    }
   ],
   "source": [
    "print(1 < 2 < 3)\n",
    "print(1 < 2 > 3)\n",
    "print(1 < 2 and 2 < 3)\n",
    "print(1 < 2 or 2 < 3)"
   ]
  },
  {
   "cell_type": "code",
   "execution_count": 17,
   "id": "d8038598",
   "metadata": {},
   "outputs": [
    {
     "name": "stdout",
     "output_type": "stream",
     "text": [
      "False\n",
      "True\n",
      "False\n",
      "True\n"
     ]
    }
   ],
   "source": [
    "print(not(True))\n",
    "print(not(False))\n",
    "\n",
    "print(not 1 < 2)\n",
    "print(not 1 > 2)"
   ]
  },
  {
   "cell_type": "code",
   "execution_count": null,
   "id": "94c8aef8",
   "metadata": {},
   "outputs": [],
   "source": [
    "#Exercise\n",
    "is_magician = False\n",
    "is_expert = True\n",
    "\n",
    "#Check if magician is true AND expert: \"You are a master magician\"\n",
    "if is_magician and is_expert:\n",
    "    print(\"You are a master magician\")\n",
    "#Check if magician is true AND NOT expert: \"At least you're getting there\"\n",
    "elif is_magician and not is_expert:\n",
    "    print(\"At least you're getting there\")\n",
    "#Check if magician is NOT true: \"You need magic powers\"\n",
    "elif not is_magician:\n",
    "    print(\"You need magic powers\")"
   ]
  },
  {
   "cell_type": "code",
   "execution_count": 15,
   "id": "6f799a75",
   "metadata": {},
   "outputs": [
    {
     "name": "stdout",
     "output_type": "stream",
     "text": [
      "True\n",
      "False\n",
      "False\n",
      "True\n",
      "True\n"
     ]
    }
   ],
   "source": [
    "#The double equal sign (==) is used to compare two values and check if they are equal.\n",
    "#Both values will be converted to the same type before comparison\n",
    "\n",
    "print(True == 1)\n",
    "#print(True == bool(1))\n",
    "\n",
    "print('' == 1)\n",
    "# print(bool('') == bool(1))\n",
    "\n",
    "print([] == 1)\n",
    "# print(bool([] == bool(1)))\n",
    "\n",
    "print(10 == 10.0)\n",
    "# print(bool(10) == bool(10.0))\n",
    "# print(10 == int(10.0))\n",
    "# print(float(10) == 10.0)\n",
    "\n",
    "print([] == [])"
   ]
  },
  {
   "cell_type": "code",
   "execution_count": 14,
   "id": "a33d1e77",
   "metadata": {},
   "outputs": [
    {
     "name": "stdout",
     "output_type": "stream",
     "text": [
      "False\n",
      "True\n",
      "True\n"
     ]
    }
   ],
   "source": [
    "#Type Conversion is not always accurate and in some cases it can be dangerous\n",
    "print('1' == 1)\n",
    "print(bool('1') == bool(1))\n",
    "print(int('1') == 1)"
   ]
  },
  {
   "cell_type": "code",
   "execution_count": 18,
   "id": "8e5604b8",
   "metadata": {},
   "outputs": [
    {
     "name": "stdout",
     "output_type": "stream",
     "text": [
      "True\n",
      "True\n",
      "False\n",
      "True\n",
      "False\n",
      "False\n"
     ]
    },
    {
     "name": "stderr",
     "output_type": "stream",
     "text": [
      "<>:7: SyntaxWarning: \"is\" with a literal. Did you mean \"==\"?\n",
      "<>:11: SyntaxWarning: \"is\" with a literal. Did you mean \"==\"?\n",
      "<>:7: SyntaxWarning: \"is\" with a literal. Did you mean \"==\"?\n",
      "<>:11: SyntaxWarning: \"is\" with a literal. Did you mean \"==\"?\n",
      "/var/folders/91/blh77fzx03q_26vzlcw788pr0000gn/T/ipykernel_2071/1240300794.py:7: SyntaxWarning: \"is\" with a literal. Did you mean \"==\"?\n",
      "  print('1' is '1')\n",
      "/var/folders/91/blh77fzx03q_26vzlcw788pr0000gn/T/ipykernel_2071/1240300794.py:11: SyntaxWarning: \"is\" with a literal. Did you mean \"==\"?\n",
      "  print(10 is 10)\n"
     ]
    }
   ],
   "source": [
    "#The logical operator is, checks if the location in memory is the same\n",
    "#Numbers and strings are stored in the same location in memory\n",
    "#Every time you create a new object (lists, dictionaries, tuples), it is a new location in memory\n",
    "\n",
    "print(True is True)\n",
    "\n",
    "print('1' is '1')\n",
    "\n",
    "print([] is [])\n",
    "\n",
    "print(10 is 10)\n",
    "\n",
    "print([1,2,3] is [1,2,3])\n",
    "\n",
    "a = [1,2,3]\n",
    "b = [1,2,3]\n",
    "print(a is b)"
   ]
  },
  {
   "cell_type": "code",
   "execution_count": 19,
   "id": "048dca20",
   "metadata": {},
   "outputs": [],
   "source": [
    "# == is used to compare the values\n",
    "# is used to compare the location in memory"
   ]
  },
  {
   "cell_type": "markdown",
   "id": "a2cb48c2",
   "metadata": {},
   "source": [
    "<a id=\"For Loops\"></a>\n",
    "___"
   ]
  },
  {
   "cell_type": "markdown",
   "id": "0dd391c6",
   "metadata": {},
   "source": [
    "### For Loops"
   ]
  },
  {
   "cell_type": "code",
   "execution_count": 22,
   "id": "eb14344d",
   "metadata": {},
   "outputs": [
    {
     "name": "stdout",
     "output_type": "stream",
     "text": [
      "1\n",
      "2\n",
      "3\n"
     ]
    }
   ],
   "source": [
    "#For Loops - for loops are used to iterate over a sequence (list, tuple, string, dictionary, set)\n",
    "for item in [1,2,3]:\n",
    "    print(item)"
   ]
  },
  {
   "cell_type": "code",
   "execution_count": 28,
   "id": "23a4b530",
   "metadata": {},
   "outputs": [
    {
     "name": "stdout",
     "output_type": "stream",
     "text": [
      "name John\n",
      "age 30\n",
      "is_new True\n"
     ]
    }
   ],
   "source": [
    "#For Loops and Dictionaries\n",
    "user = {\n",
    "    'name': 'John',\n",
    "    'age': 30,\n",
    "    'is_new': True\n",
    "}\n",
    "\n",
    "#Return the keys of a dictionary\n",
    "# for item in user:\n",
    "#     print(item)\n",
    "\n",
    "#Another way to return the keys of a dictionary\n",
    "# for item in user.keys():\n",
    "#     print(item)\n",
    "\n",
    "#Return the values of a dictionary\n",
    "# for item in user.values():\n",
    "#     print(item)\n",
    "\n",
    "#Return the keys and values of a dictionary\n",
    "# for item in user.items():\n",
    "#     print(item)\n",
    "\n",
    "#Tuple unpacking\n",
    "# for item in user.items():\n",
    "#     key, value = item\n",
    "#     print(key, value)\n",
    "\n",
    "#Another method for tuple unpacking\n",
    "# for key, value in user.items():\n",
    "#     print(key, value)\n",
    "\n",
    "#Shorthand for the above method\n",
    "for k, v in user.items():\n",
    "    print(k, v)"
   ]
  },
  {
   "cell_type": "code",
   "execution_count": 29,
   "id": "a1bf8777",
   "metadata": {},
   "outputs": [
    {
     "name": "stdout",
     "output_type": "stream",
     "text": [
      "55\n"
     ]
    }
   ],
   "source": [
    "#Exercise\n",
    "#Counter - use for loop to sum the values in a list\n",
    "my_list = [1,2,3,4,5,6,7,8,9,10]\n",
    "\n",
    "counter = 0\n",
    "\n",
    "for item in my_list:\n",
    "  counter = counter + item\n",
    "\n",
    "print(counter)"
   ]
  },
  {
   "cell_type": "markdown",
   "id": "e6f9aa3e",
   "metadata": {},
   "source": [
    "<a id=\"range\"></a>\n",
    "___"
   ]
  },
  {
   "cell_type": "markdown",
   "id": "37540479",
   "metadata": {},
   "source": [
    "### Range"
   ]
  },
  {
   "cell_type": "code",
   "execution_count": 15,
   "id": "dc9cad1e",
   "metadata": {},
   "outputs": [
    {
     "name": "stdout",
     "output_type": "stream",
     "text": [
      "range(0, 100)\n",
      "range(0, 100)\n"
     ]
    }
   ],
   "source": [
    "#The range function returns a sequence of numbers, starting from 0 by default, and increments by 1 (by default), and ends at a specified number.\n",
    "print(range(100))\n",
    "print(range(0, 100))"
   ]
  },
  {
   "cell_type": "code",
   "execution_count": 16,
   "id": "4f772ff1",
   "metadata": {},
   "outputs": [
    {
     "name": "stdout",
     "output_type": "stream",
     "text": [
      "0\n",
      "1\n",
      "2\n",
      "3\n",
      "4\n"
     ]
    }
   ],
   "source": [
    "#We can iterate over the range function to create a list of numbers\n",
    "for number in range(0, 5):\n",
    "    print(number)"
   ]
  },
  {
   "cell_type": "code",
   "execution_count": 17,
   "id": "d29701cb",
   "metadata": {},
   "outputs": [
    {
     "name": "stdout",
     "output_type": "stream",
     "text": [
      "hello\n",
      "hello\n",
      "hello\n",
      "hello\n",
      "hello\n"
     ]
    }
   ],
   "source": [
    "#common notation when variable is not needed\n",
    "for _ in range(0, 5):\n",
    "    print('hello')"
   ]
  },
  {
   "cell_type": "code",
   "execution_count": 18,
   "id": "3e855d2d",
   "metadata": {},
   "outputs": [
    {
     "name": "stdout",
     "output_type": "stream",
     "text": [
      "0\n",
      "2\n",
      "4\n",
      "6\n",
      "8\n"
     ]
    }
   ],
   "source": [
    "#Range comes with a step parameter (default is 1)\n",
    "for number in range(0, 10, 2):\n",
    "    print(number)"
   ]
  },
  {
   "cell_type": "code",
   "execution_count": 19,
   "id": "dde3611d",
   "metadata": {},
   "outputs": [
    {
     "name": "stdout",
     "output_type": "stream",
     "text": [
      "[0, 1, 2, 3, 4, 5, 6, 7, 8, 9]\n",
      "[0, 1, 2, 3, 4, 5, 6, 7, 8, 9]\n"
     ]
    }
   ],
   "source": [
    "#We can use the range function to create a list of numbers\n",
    "for _ in range(2):\n",
    "    print(list(range(10)))"
   ]
  },
  {
   "cell_type": "markdown",
   "id": "c9b42fb0",
   "metadata": {},
   "source": [
    "<a id=\"Enumerate\"></a>\n",
    "___"
   ]
  },
  {
   "cell_type": "markdown",
   "id": "6f2af649",
   "metadata": {},
   "source": [
    "### Enumerate"
   ]
  },
  {
   "cell_type": "code",
   "execution_count": 1,
   "id": "596fa80a",
   "metadata": {},
   "outputs": [
    {
     "name": "stdout",
     "output_type": "stream",
     "text": [
      "0 h\n",
      "1 e\n",
      "2 l\n",
      "3 l\n",
      "4 o\n"
     ]
    }
   ],
   "source": [
    "#enumerate() - used to iterate over a list and return both the index and the value\n",
    "for i,char in enumerate('hello'):\n",
    "    print(i, char)"
   ]
  },
  {
   "cell_type": "code",
   "execution_count": 2,
   "id": "f0cc480b",
   "metadata": {},
   "outputs": [
    {
     "name": "stdout",
     "output_type": "stream",
     "text": [
      "49\n"
     ]
    }
   ],
   "source": [
    "#Exercise\n",
    "#Create a script that enumerates over a list of numbers (1-100) and print the index for the number 50\n",
    "for i, number in enumerate(range(1, 101)):\n",
    "    if number == 50:\n",
    "        print(i)"
   ]
  },
  {
   "cell_type": "code",
   "execution_count": 9,
   "id": "04e83f5c",
   "metadata": {},
   "outputs": [
    {
     "name": "stdout",
     "output_type": "stream",
     "text": [
      "50\n"
     ]
    }
   ],
   "source": [
    "for i,char in enumerate(list(range(100))):\n",
    "    if char == 50:\n",
    "        print(i)"
   ]
  },
  {
   "cell_type": "code",
   "execution_count": 10,
   "id": "1ff0c46b",
   "metadata": {},
   "outputs": [
    {
     "name": "stdout",
     "output_type": "stream",
     "text": [
      "index of 50 is: 50\n"
     ]
    }
   ],
   "source": [
    "for i,char in enumerate(range(100)):\n",
    "    if char == 50:\n",
    "        print(f'index of 50 is: {i}')"
   ]
  },
  {
   "cell_type": "markdown",
   "id": "d15d4c88",
   "metadata": {},
   "source": [
    "<a id=\"While Loops\"></a>\n",
    "___"
   ]
  },
  {
   "cell_type": "markdown",
   "id": "640d6a21",
   "metadata": {},
   "source": [
    "### While Loops"
   ]
  },
  {
   "cell_type": "code",
   "execution_count": 15,
   "id": "3e5557d8",
   "metadata": {},
   "outputs": [],
   "source": [
    "#While loops are used to iterate over a sequence until a condition is met\n",
    "\n",
    "#To jump out of a while loop, you can either\n",
    "\n",
    "#1. Make the condition False\n",
    "# i = 0\n",
    "# while i < 5:\n",
    "#    print(i)\n",
    "#    i = i + 1\n",
    "\n",
    "#2. Break the loop\n",
    "# i = 0\n",
    "# while 0 < 5:\n",
    "#    print(i)\n",
    "#    break"
   ]
  },
  {
   "cell_type": "code",
   "execution_count": 26,
   "id": "713d341e",
   "metadata": {},
   "outputs": [
    {
     "name": "stdout",
     "output_type": "stream",
     "text": [
      "0\n",
      "1\n",
      "2\n",
      "3\n",
      "4\n",
      "i is no longer less than 5\n"
     ]
    }
   ],
   "source": [
    "#We can have else statements in a while loop\n",
    "i = 0\n",
    "while i < 5:\n",
    "   print(i)\n",
    "   i += 1\n",
    "else:\n",
    "   print('i is no longer less than 5')"
   ]
  },
  {
   "cell_type": "code",
   "execution_count": 27,
   "id": "dee900ab",
   "metadata": {},
   "outputs": [
    {
     "name": "stdout",
     "output_type": "stream",
     "text": [
      "0\n"
     ]
    }
   ],
   "source": [
    "#Else statements are rarely used; however, they are sometimes found following a break statement\n",
    "i = 0\n",
    "while i < 5:\n",
    "   print(i)\n",
    "   i += 1\n",
    "   break\n",
    "else:\n",
    "   print('i is no longer less than 5')\n"
   ]
  },
  {
   "cell_type": "code",
   "execution_count": 28,
   "id": "ac248e92",
   "metadata": {},
   "outputs": [
    {
     "name": "stdout",
     "output_type": "stream",
     "text": [
      "1\n",
      "2\n",
      "3\n",
      "0\n",
      "1\n",
      "2\n"
     ]
    }
   ],
   "source": [
    "#We can use either for or while loops to iterate over a sequence\n",
    "\n",
    "for item in [1,2,3]:\n",
    "    print(item)\n",
    "\n",
    "i = 0\n",
    "while i < len([1,2,3]):\n",
    "    print(i)\n",
    "    i += 1"
   ]
  },
  {
   "cell_type": "code",
   "execution_count": 29,
   "id": "09b5a840",
   "metadata": {},
   "outputs": [
    {
     "name": "stdout",
     "output_type": "stream",
     "text": [
      "1\n",
      "2\n",
      "3\n",
      "1\n",
      "2\n",
      "3\n"
     ]
    }
   ],
   "source": [
    "#What is better to use a for or while loop?\n",
    "my_list = [1,2,3]\n",
    "\n",
    "#For loops are simpler and easier to read than while loops\n",
    "for item in my_list:\n",
    "    print(item)\n",
    "\n",
    "#While loops are more flexible than for loops\n",
    "    #Conditional statements (i < len(my_list)) allow us to iterate over a sequence until a condition is met\n",
    "    #While loops require a variable to be declared (i=0) and incremented to avoid an infinite loop (i += 1)\n",
    "i = 0\n",
    "while i < len(my_list):\n",
    "    print(my_list[i])\n",
    "    i += 1"
   ]
  },
  {
   "cell_type": "code",
   "execution_count": 25,
   "id": "63dcd452",
   "metadata": {},
   "outputs": [],
   "source": [
    "#One of the most useful ways to use a while loop is to say \n",
    "while True:\n",
    "    response = input('say something: ')\n",
    "    if response == 'bye':\n",
    "        break"
   ]
  },
  {
   "cell_type": "code",
   "execution_count": 30,
   "id": "5cbca89c",
   "metadata": {},
   "outputs": [],
   "source": [
    "#When to use a while loop?\n",
    "    #For simple loops or itterating over itteratble objects, for loops are preferred\n",
    "    #If you are not sure how many times you will iterate, use a while loop"
   ]
  },
  {
   "cell_type": "markdown",
   "id": "0b29165e",
   "metadata": {},
   "source": [
    "<a id=\"Break, Continue & Pass\"></a>\n",
    "___"
   ]
  },
  {
   "cell_type": "markdown",
   "id": "4d94a808",
   "metadata": {},
   "source": [
    "### Break, Continue & Pass"
   ]
  },
  {
   "cell_type": "code",
   "execution_count": 31,
   "id": "09b5a840",
   "metadata": {},
   "outputs": [
    {
     "name": "stdout",
     "output_type": "stream",
     "text": [
      "1\n",
      "1\n"
     ]
    }
   ],
   "source": [
    "#break - used to exit a loop\n",
    "\n",
    "my_list = [1,2,3]\n",
    "for item in my_list:\n",
    "    print(item)\n",
    "    break\n",
    "\n",
    "i = 0\n",
    "while i < len(my_list):\n",
    "    print(my_list[i])\n",
    "    i += 1\n",
    "    break"
   ]
  },
  {
   "cell_type": "code",
   "execution_count": 35,
   "id": "44c34b09",
   "metadata": {},
   "outputs": [],
   "source": [
    "#continue - used to skip the rest of the code in a loop and continue with the next iteration\n",
    "\n",
    "my_list = [1,2,3]\n",
    "for item in my_list:\n",
    "    continue\n",
    "    print(item)\n",
    "\n",
    "i = 0\n",
    "while i < len(my_list):\n",
    "    i += 1\n",
    "    continue\n",
    "    print(my_list[i])"
   ]
  },
  {
   "cell_type": "code",
   "execution_count": 39,
   "id": "6ec1aff4",
   "metadata": {},
   "outputs": [
    {
     "name": "stdout",
     "output_type": "stream",
     "text": [
      "1\n",
      "2\n",
      "3\n"
     ]
    }
   ],
   "source": [
    "#pass - used to do nothing, usually used as a placeholder\n",
    "\n",
    "my_list = [1,2,3]\n",
    "for item in my_list:\n",
    "    #thinking about what to do with the item\n",
    "    pass\n",
    "\n",
    "i = 0\n",
    "while i < len(my_list):\n",
    "    print(my_list[i])\n",
    "    i += 1\n",
    "    pass"
   ]
  },
  {
   "cell_type": "code",
   "execution_count": 44,
   "id": "9f2902e0",
   "metadata": {},
   "outputs": [
    {
     "name": "stdout",
     "output_type": "stream",
     "text": [
      "   *   \n",
      "  ***  \n",
      " ***** \n",
      "   *   \n",
      "   *   \n"
     ]
    }
   ],
   "source": [
    "  #Exercise\n",
    "  #Our First GUI: Create a program that takes this picture and displays it on the screen using either a space or an astrix.\n",
    "picture = [\n",
    "  [0,0,0,1,0,0,0],\n",
    "  [0,0,1,1,1,0,0],\n",
    "  [0,1,1,1,1,1,0],\n",
    "  [0,0,0,1,0,0,0],\n",
    "  [0,0,0,1,0,0,0]\n",
    "]\n",
    "\n",
    "for row in picture:\n",
    "    for pixel in row:\n",
    "      if pixel == 1:\n",
    "        print('*', end='')\n",
    "        #default print(value, end='\\n')\n",
    "      else:\n",
    "        print(' ', end='')\n",
    "    print('')"
   ]
  },
  {
   "cell_type": "code",
   "execution_count": 47,
   "id": "4fae807d",
   "metadata": {},
   "outputs": [
    {
     "name": "stdout",
     "output_type": "stream",
     "text": [
      "   *   \n",
      "  ***  \n",
      " ***** \n",
      "   *   \n",
      "   *   \n"
     ]
    }
   ],
   "source": [
    "#Developer Fundamentals\n",
    "#We can clean up the above code...\n",
    "\n",
    "picture = [\n",
    "  [0,0,0,1,0,0,0],\n",
    "  [0,0,1,1,1,0,0],\n",
    "  [0,1,1,1,1,1,0],\n",
    "  [0,0,0,1,0,0,0],\n",
    "  [0,0,0,1,0,0,0]\n",
    "]\n",
    "\n",
    "fill = '*'\n",
    "empty = ' '\n",
    "\n",
    "for row in picture:\n",
    "    for pixel in row:\n",
    "      if pixel == 1:\n",
    "        print(fill, end='')\n",
    "      else:\n",
    "        print(empty, end='')\n",
    "    print('')"
   ]
  },
  {
   "cell_type": "code",
   "execution_count": 3,
   "id": "2883c427",
   "metadata": {},
   "outputs": [
    {
     "name": "stdout",
     "output_type": "stream",
     "text": [
      "['b', 'n']\n"
     ]
    }
   ],
   "source": [
    "#Exercise\n",
    "#Check for and print duplicates in the following list\n",
    "some_list = ['a', 'b', 'c', 'b', 'd', 'm', 'n', 'n']\n",
    "\n",
    "duplicates = []\n",
    "for value in some_list:\n",
    "    if some_list.count(value) > 1:\n",
    "        if value not in duplicates:\n",
    "            duplicates.append(value)\n",
    "\n",
    "print(duplicates)\n"
   ]
  },
  {
   "cell_type": "markdown",
   "id": "67b427e6",
   "metadata": {},
   "source": [
    "<a id=\"Functions\"></a>\n",
    "___"
   ]
  },
  {
   "cell_type": "markdown",
   "id": "89ae4c1e",
   "metadata": {},
   "source": [
    "### Functions"
   ]
  },
  {
   "cell_type": "code",
   "execution_count": 6,
   "id": "2f1e77d0",
   "metadata": {},
   "outputs": [],
   "source": [
    "#Functions - a function is a reusable block of code that performs a specific task\n",
    "\n",
    "#Syntax:\n",
    "#def function_name(parameter1, parameter2, ...):\n",
    "#    function body\n",
    "#    return value\n",
    "\n",
    "#def - used to define a function\n",
    "#function_name - name of the function\n",
    "#(parameters) - parameters are the variables that are passed into the function\n",
    "\n",
    "#In order to use a function, we must call it    "
   ]
  },
  {
   "cell_type": "code",
   "execution_count": 7,
   "id": "4384121d",
   "metadata": {},
   "outputs": [
    {
     "name": "stdout",
     "output_type": "stream",
     "text": [
      "Hello\n"
     ]
    }
   ],
   "source": [
    "def say_hello():\n",
    "    print('Hello')\n",
    "\n",
    "say_hello()"
   ]
  },
  {
   "cell_type": "code",
   "execution_count": 12,
   "id": "8443cf79",
   "metadata": {},
   "outputs": [
    {
     "name": "stdout",
     "output_type": "stream",
     "text": [
      "   *   \n",
      "  ***  \n",
      " ***** \n",
      "   *   \n",
      "   *   \n",
      "   *   \n",
      "  ***  \n",
      " ***** \n",
      "   *   \n",
      "   *   \n",
      "   *   \n",
      "  ***  \n",
      " ***** \n",
      "   *   \n",
      "   *   \n"
     ]
    }
   ],
   "source": [
    " #Functions are useful when we want to reuse code\n",
    " #What if we want to do the same thing over and over again?\n",
    "picture = [\n",
    "  [0,0,0,1,0,0,0],\n",
    "  [0,0,1,1,1,0,0],\n",
    "  [0,1,1,1,1,1,0],\n",
    "  [0,0,0,1,0,0,0],\n",
    "  [0,0,0,1,0,0,0]\n",
    "]\n",
    "\n",
    "def show_tree():\n",
    "  for row in picture:\n",
    "      for pixel in row:\n",
    "        if pixel == 1:\n",
    "          print('*', end='')\n",
    "          #default print(value, end='\\n')\n",
    "        else:\n",
    "          print(' ', end='')\n",
    "      print('')\n",
    "\n",
    "show_tree()\n",
    "show_tree()\n",
    "show_tree()"
   ]
  },
  {
   "cell_type": "code",
   "execution_count": 21,
   "id": "56daadec",
   "metadata": {},
   "outputs": [
    {
     "name": "stdout",
     "output_type": "stream",
     "text": [
      "<function show_tree at 0x7f9178749b80>\n"
     ]
    }
   ],
   "source": [
    "#We can use print() to find a function's location in memory\n",
    "print(show_tree)"
   ]
  },
  {
   "cell_type": "markdown",
   "id": "f49aa5f2",
   "metadata": {},
   "source": [
    "<a id=\"Arguments vs Parameters\"></a>\n",
    "___"
   ]
  },
  {
   "cell_type": "markdown",
   "id": "2ecbe160",
   "metadata": {},
   "source": [
    "### Arguments vs Parameters"
   ]
  },
  {
   "cell_type": "code",
   "execution_count": 23,
   "id": "a9b660da",
   "metadata": {},
   "outputs": [
    {
     "name": "stdout",
     "output_type": "stream",
     "text": [
      "Hello John :)\n"
     ]
    }
   ],
   "source": [
    "#Parameters - the variables that are defined within a function\n",
    "def say_hello(name, emoji):\n",
    "    print(f'Hello {name} {emoji}')\n",
    "\n",
    "#Arguments - the values that are passed into a function when it is called\n",
    "say_hello('John', ':)')"
   ]
  },
  {
   "cell_type": "markdown",
   "id": "23b32a21",
   "metadata": {},
   "source": [
    "<a id=\"Arguement Types\"></a>\n",
    "___"
   ]
  },
  {
   "cell_type": "markdown",
   "id": "b21ac7aa",
   "metadata": {},
   "source": [
    "### Arguement Types"
   ]
  },
  {
   "cell_type": "code",
   "execution_count": 25,
   "id": "87a798d1",
   "metadata": {},
   "outputs": [
    {
     "name": "stdout",
     "output_type": "stream",
     "text": [
      "Hello John :)\n",
      "Hello John :)\n"
     ]
    }
   ],
   "source": [
    "#Positional Arguments require the arguments to be passed in the same order as the parameters\n",
    "say_hello('John', ':)')\n",
    "\n",
    "#Keyword Arguments do not require the arguments to be passed in the same order as the parameters\n",
    "say_hello(emoji=':)', name='John')"
   ]
  },
  {
   "cell_type": "markdown",
   "id": "a372e020",
   "metadata": {},
   "source": [
    "<a id=\"Parameter Types\"></a>\n",
    "___"
   ]
  },
  {
   "cell_type": "markdown",
   "id": "bda64560",
   "metadata": {},
   "source": [
    "### Parameter Types"
   ]
  },
  {
   "cell_type": "code",
   "execution_count": 27,
   "id": "d0c96924",
   "metadata": {},
   "outputs": [
    {
     "name": "stdout",
     "output_type": "stream",
     "text": [
      "Hello John :)\n"
     ]
    }
   ],
   "source": [
    "#Default Parameters - parameters that have a default value\n",
    "def say_hello(name='John', emoji=':)'):\n",
    "    print(f'Hello {name} {emoji}')\n",
    "\n",
    "say_hello() "
   ]
  },
  {
   "cell_type": "markdown",
   "id": "74884b68",
   "metadata": {},
   "source": [
    "<a id= \"Return Statement\"></a>\n",
    "___"
   ]
  },
  {
   "cell_type": "markdown",
   "id": "f1fbb245",
   "metadata": {},
   "source": [
    "### Return Statement"
   ]
  },
  {
   "cell_type": "code",
   "execution_count": 35,
   "id": "f78624b7",
   "metadata": {},
   "outputs": [
    {
     "name": "stdout",
     "output_type": "stream",
     "text": [
      "5\n"
     ]
    }
   ],
   "source": [
    "#Without print or a return statement, the function will return None\n",
    "# def sum(num1, num2):\n",
    "#     num1 + num2\n",
    "\n",
    "# print(sum(2, 3))\n",
    "\n",
    "def sum(num1, num2):\n",
    "    return num1 + num2\n",
    "\n",
    "print(sum(2, 3))"
   ]
  },
  {
   "cell_type": "code",
   "execution_count": 34,
   "id": "faaae75c",
   "metadata": {},
   "outputs": [
    {
     "data": {
      "text/plain": [
       "5"
      ]
     },
     "execution_count": 34,
     "metadata": {},
     "output_type": "execute_result"
    }
   ],
   "source": [
    "#The return statement exits the function, so all other code after the return statement will not be executed\n",
    "def sum(num1, num2):\n",
    "    return num1 + num2\n",
    "    print('This code will not be executed')\n",
    "\n",
    "sum(2, 3)"
   ]
  },
  {
   "cell_type": "markdown",
   "id": "fc62b46a",
   "metadata": {},
   "source": [
    "<a id=\"Tesla Exercise\"></a>\n",
    "___"
   ]
  },
  {
   "cell_type": "markdown",
   "id": "4eb9d536",
   "metadata": {},
   "source": [
    "### Tesla Exercise"
   ]
  },
  {
   "cell_type": "code",
   "execution_count": 1,
   "id": "17740d2b",
   "metadata": {},
   "outputs": [
    {
     "name": "stdout",
     "output_type": "stream",
     "text": [
      "Powering On. Enjoy the ride!\n"
     ]
    }
   ],
   "source": [
    "age = input(\"What is your age?: \")\n",
    "\n",
    "if int(age) < 18:\n",
    "\tprint(\"Sorry, you are too young to drive this car. Powering off\")\n",
    "elif int(age) > 18:\n",
    "\tprint(\"Powering On. Enjoy the ride!\");\n",
    "elif int(age) == 18:\n",
    "\tprint(\"Congratulations on your first year of driving. Enjoy the ride!\")"
   ]
  },
  {
   "cell_type": "code",
   "execution_count": 2,
   "id": "17740d2b",
   "metadata": {},
   "outputs": [
    {
     "name": "stdout",
     "output_type": "stream",
     "text": [
      "Congratulations on your first year of driving. Enjoy the ride!\n"
     ]
    }
   ],
   "source": [
    "#1. Wrap the above code in a function called checkDriverAge(). Whenever you call this function, you will get prompted for age. \n",
    "# Notice the benefit in having checkDriverAge() instead of copying and pasting the function everytime?\n",
    "\n",
    "def checkDriverAge():\n",
    "  age = input(\"What is your age?: \")\n",
    "\n",
    "  if int(age) < 18:\n",
    "    print(\"Sorry, you are too young to drive this car. Powering off\")\n",
    "  elif int(age) > 18:\n",
    "    print(\"Powering On. Enjoy the ride!\");\n",
    "  elif int(age) == 18:\n",
    "    print(\"Congratulations on your first year of driving. Enjoy the ride!\")\n",
    "\n",
    "checkDriverAge()"
   ]
  },
  {
   "cell_type": "code",
   "execution_count": 3,
   "id": "17740d2b",
   "metadata": {},
   "outputs": [
    {
     "name": "stdout",
     "output_type": "stream",
     "text": [
      "Sorry, you are too young to drive this car. Powering off\n"
     ]
    }
   ],
   "source": [
    "#2 Instead of using the input(). Now, make the checkDriverAge() function accept an argument of age, so that if you enter:\n",
    "#checkDriverAge(92);\n",
    "#it returns \"Powering On. Enjoy the ride!\"\n",
    "#also make it so that the default age is set to 0 if no argument is given.\n",
    "\n",
    "def checkDriverAge(age=0):\n",
    "  if int(age) < 18:\n",
    "    print(\"Sorry, you are too young to drive this car. Powering off\")\n",
    "  elif int(age) > 18:\n",
    "    print(\"Powering On. Enjoy the ride!\");\n",
    "  elif int(age) == 18:\n",
    "    print(\"Congratulations on your first year of driving. Enjoy the ride!\")\n",
    "\n",
    "checkDriverAge()"
   ]
  },
  {
   "cell_type": "markdown",
   "id": "7d2ac95a",
   "metadata": {},
   "source": [
    "<a id=\"Methods vs Functions\"></a>"
   ]
  },
  {
   "cell_type": "markdown",
   "id": "98b19e2b",
   "metadata": {},
   "source": [
    "### Methods vs Functions"
   ]
  },
  {
   "cell_type": "code",
   "execution_count": 4,
   "id": "78dfa5b1",
   "metadata": {},
   "outputs": [],
   "source": [
    "#Built-in Functions\n",
    "#list() - creates a list\n",
    "#len() - returns the length of a list\n",
    "#max() - returns the largest value in a list\n",
    "#min() - returns the smallest value in a list\n",
    "#print() - prints the value of a variable\n",
    "#str() - converts a value to a string\n",
    "#type() - returns the type of a variable\n",
    "#input() - prompts the user for input\n",
    "\n",
    "#Custom Functions\n",
    "def some_function():\n",
    "  print('Hello')\n",
    "\n",
    "#Methods\n",
    "#Methods use dot notation to access the attributes of an object (strings, dictionaries, sets, tuples, etc.)\n",
    "\n"
   ]
  },
  {
   "cell_type": "markdown",
   "id": "216e7505",
   "metadata": {},
   "source": [
    "<a id=\"Docstrings\"></a>\n",
    "___"
   ]
  },
  {
   "cell_type": "markdown",
   "id": "cdbd07d2",
   "metadata": {},
   "source": [
    "### Docstrings"
   ]
  },
  {
   "cell_type": "code",
   "execution_count": 7,
   "id": "b1b34a13",
   "metadata": {},
   "outputs": [
    {
     "name": "stdout",
     "output_type": "stream",
     "text": [
      "!!!\n"
     ]
    }
   ],
   "source": [
    "#docstrings - allow you to add comments or definitions to your functions\n",
    "\n",
    "def test(a):\n",
    "    '''\n",
    "    Info: this function tests and prints param a\n",
    "    '''\n",
    "    print(a)\n",
    "\n",
    "#Now when you start typing test(), you will see your docstring\n",
    "test('!!!')"
   ]
  },
  {
   "cell_type": "code",
   "execution_count": 6,
   "id": "5a04a5e0",
   "metadata": {},
   "outputs": [
    {
     "name": "stdout",
     "output_type": "stream",
     "text": [
      "Help on function test in module __main__:\n",
      "\n",
      "test(a)\n",
      "    Info: this function tests and prints param a\n",
      "\n"
     ]
    }
   ],
   "source": [
    "#Help() - displays the docstring of a function\n",
    "help(test)"
   ]
  },
  {
   "cell_type": "code",
   "execution_count": 11,
   "id": "79f9af8b",
   "metadata": {},
   "outputs": [
    {
     "name": "stdout",
     "output_type": "stream",
     "text": [
      "\n",
      "    Info: this function tests and prints param a\n",
      "    \n"
     ]
    }
   ],
   "source": [
    "#Another way to display the docstring is to use the magic method __doc__\n",
    "print(test.__doc__)"
   ]
  },
  {
   "cell_type": "code",
   "execution_count": null,
   "id": "cd443011",
   "metadata": {},
   "outputs": [],
   "source": []
  }
 ],
 "metadata": {
  "interpreter": {
   "hash": "aee8b7b246df8f9039afb4144a1f6fd8d2ca17a180786b69acc140d282b71a49"
  },
  "kernelspec": {
   "display_name": "Python 3.9.7 64-bit",
   "name": "python3"
  },
  "language_info": {
   "codemirror_mode": {
    "name": "ipython",
    "version": 3
   },
   "file_extension": ".py",
   "mimetype": "text/x-python",
   "name": "python",
   "nbconvert_exporter": "python",
   "pygments_lexer": "ipython3",
   "version": "3.9.7"
  }
 },
 "nbformat": 4,
 "nbformat_minor": 5
}
